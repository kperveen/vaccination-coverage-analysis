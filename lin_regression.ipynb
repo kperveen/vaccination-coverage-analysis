{
 "cells": [
  {
   "cell_type": "code",
   "execution_count": 1,
   "metadata": {},
   "outputs": [],
   "source": [
    "import requests\n",
    "import pandas as pd\n",
    "import numpy as np\n",
    "from matplotlib import pyplot as plt\n",
    "import seaborn as sb\n",
    "\n",
    "from sklearn.model_selection import train_test_split\n",
    "from sklearn.linear_model import LinearRegression\n",
    "import statsmodels.api as sm\n",
    "from statsmodels.stats.outliers_influence import variance_inflation_factor\n",
    "import seaborn as sns\n"
   ]
  },
  {
   "cell_type": "code",
   "execution_count": 3,
   "metadata": {},
   "outputs": [],
   "source": [
    "# Using the standardized dataset to train and test the model\n",
    "df = pd.read_csv('std_df_full.csv', index_col = 0)\n"
   ]
  },
  {
   "cell_type": "code",
   "execution_count": 4,
   "metadata": {},
   "outputs": [
    {
     "name": "stdout",
     "output_type": "stream",
     "text": [
      "Index(['vaxView', 'year', 'value', 'lowerLimit', 'upperLimit', 'sampleSize',\n",
      "       'confidenceInterval', 'demographicClass', 'upperError', 'lowerError'],\n",
      "      dtype='object')\n"
     ]
    }
   ],
   "source": [
    "print(df.keys())"
   ]
  },
  {
   "cell_type": "code",
   "execution_count": 5,
   "metadata": {},
   "outputs": [],
   "source": [
    "# Splitting the data into training and testing datasets \n",
    "np.random.seed(0)\n",
    "df_train, df_test = train_test_split(df, train_size = 0.7, test_size = 0.3, random_state = 100)\n"
   ]
  },
  {
   "cell_type": "code",
   "execution_count": 6,
   "metadata": {},
   "outputs": [],
   "source": [
    "# Separating the training set into target and predictor variables\n",
    "y_train = df_train.pop('value')\n",
    "x_train = df_train\n"
   ]
  },
  {
   "cell_type": "code",
   "execution_count": 7,
   "metadata": {},
   "outputs": [
    {
     "name": "stderr",
     "output_type": "stream",
     "text": [
      "C:\\ProgramData\\Anaconda3\\lib\\site-packages\\numpy\\core\\fromnumeric.py:2389: FutureWarning: Method .ptp is deprecated and will be removed in a future version. Use numpy.ptp instead.\n",
      "  return ptp(axis=axis, out=out, **kwargs)\n"
     ]
    },
    {
     "data": {
      "text/html": [
       "<table class=\"simpletable\">\n",
       "<caption>OLS Regression Results</caption>\n",
       "<tr>\n",
       "  <th>Dep. Variable:</th>          <td>value</td>      <th>  R-squared:         </th>  <td>   1.000</td> \n",
       "</tr>\n",
       "<tr>\n",
       "  <th>Model:</th>                   <td>OLS</td>       <th>  Adj. R-squared:    </th>  <td>   1.000</td> \n",
       "</tr>\n",
       "<tr>\n",
       "  <th>Method:</th>             <td>Least Squares</td>  <th>  F-statistic:       </th>  <td>4.401e+23</td>\n",
       "</tr>\n",
       "<tr>\n",
       "  <th>Date:</th>             <td>Wed, 05 May 2021</td> <th>  Prob (F-statistic):</th>   <td>  0.00</td>  \n",
       "</tr>\n",
       "<tr>\n",
       "  <th>Time:</th>                 <td>13:28:46</td>     <th>  Log-Likelihood:    </th>  <td>  25597.</td> \n",
       "</tr>\n",
       "<tr>\n",
       "  <th>No. Observations:</th>      <td>  1265</td>      <th>  AIC:               </th> <td>-5.118e+04</td>\n",
       "</tr>\n",
       "<tr>\n",
       "  <th>Df Residuals:</th>          <td>  1256</td>      <th>  BIC:               </th> <td>-5.113e+04</td>\n",
       "</tr>\n",
       "<tr>\n",
       "  <th>Df Model:</th>              <td>     8</td>      <th>                     </th>      <td> </td>    \n",
       "</tr>\n",
       "<tr>\n",
       "  <th>Covariance Type:</th>      <td>nonrobust</td>    <th>                     </th>      <td> </td>    \n",
       "</tr>\n",
       "</table>\n",
       "<table class=\"simpletable\">\n",
       "<tr>\n",
       "           <td></td>             <th>coef</th>     <th>std err</th>      <th>t</th>      <th>P>|t|</th>  <th>[0.025</th>    <th>0.975]</th>  \n",
       "</tr>\n",
       "<tr>\n",
       "  <th>const</th>              <td>    6.9237</td> <td> 3.99e-09</td> <td> 1.74e+09</td> <td> 0.000</td> <td>    6.924</td> <td>    6.924</td>\n",
       "</tr>\n",
       "<tr>\n",
       "  <th>vaxView</th>            <td> 4.818e-14</td> <td> 4.97e-11</td> <td>    0.001</td> <td> 0.999</td> <td>-9.75e-11</td> <td> 9.76e-11</td>\n",
       "</tr>\n",
       "<tr>\n",
       "  <th>year</th>               <td>-1.968e-13</td> <td> 1.99e-12</td> <td>   -0.099</td> <td> 0.921</td> <td> -4.1e-12</td> <td> 3.71e-12</td>\n",
       "</tr>\n",
       "<tr>\n",
       "  <th>lowerLimit</th>         <td>   43.5619</td> <td> 2.25e-10</td> <td> 1.94e+11</td> <td> 0.000</td> <td>   43.562</td> <td>   43.562</td>\n",
       "</tr>\n",
       "<tr>\n",
       "  <th>upperLimit</th>         <td>   49.0679</td> <td> 2.54e-10</td> <td> 1.93e+11</td> <td> 0.000</td> <td>   49.068</td> <td>   49.068</td>\n",
       "</tr>\n",
       "<tr>\n",
       "  <th>sampleSize</th>         <td>-6.306e-14</td> <td> 2.73e-10</td> <td>   -0.000</td> <td> 1.000</td> <td>-5.36e-10</td> <td> 5.36e-10</td>\n",
       "</tr>\n",
       "<tr>\n",
       "  <th>confidenceInterval</th> <td> 2.132e-13</td> <td> 1.33e-09</td> <td>    0.000</td> <td> 1.000</td> <td>-2.61e-09</td> <td> 2.61e-09</td>\n",
       "</tr>\n",
       "<tr>\n",
       "  <th>demographicClass</th>   <td> 3.331e-14</td> <td> 4.96e-11</td> <td>    0.001</td> <td> 0.999</td> <td>-9.73e-11</td> <td> 9.73e-11</td>\n",
       "</tr>\n",
       "<tr>\n",
       "  <th>upperError</th>         <td>  -13.9659</td> <td> 7.77e-10</td> <td> -1.8e+10</td> <td> 0.000</td> <td>  -13.966</td> <td>  -13.966</td>\n",
       "</tr>\n",
       "<tr>\n",
       "  <th>lowerError</th>         <td>   19.2472</td> <td> 5.86e-10</td> <td> 3.29e+10</td> <td> 0.000</td> <td>   19.247</td> <td>   19.247</td>\n",
       "</tr>\n",
       "</table>\n",
       "<table class=\"simpletable\">\n",
       "<tr>\n",
       "  <th>Omnibus:</th>       <td>364.492</td> <th>  Durbin-Watson:     </th> <td>   0.000</td>\n",
       "</tr>\n",
       "<tr>\n",
       "  <th>Prob(Omnibus):</th> <td> 0.000</td>  <th>  Jarque-Bera (JB):  </th> <td>  75.179</td>\n",
       "</tr>\n",
       "<tr>\n",
       "  <th>Skew:</th>          <td>-0.290</td>  <th>  Prob(JB):          </th> <td>4.73e-17</td>\n",
       "</tr>\n",
       "<tr>\n",
       "  <th>Kurtosis:</th>      <td> 1.956</td>  <th>  Cond. No.          </th> <td>2.36e+19</td>\n",
       "</tr>\n",
       "</table><br/><br/>Warnings:<br/>[1] Standard Errors assume that the covariance matrix of the errors is correctly specified.<br/>[2] The smallest eigenvalue is 9.14e-30. This might indicate that there are<br/>strong multicollinearity problems or that the design matrix is singular."
      ],
      "text/plain": [
       "<class 'statsmodels.iolib.summary.Summary'>\n",
       "\"\"\"\n",
       "                            OLS Regression Results                            \n",
       "==============================================================================\n",
       "Dep. Variable:                  value   R-squared:                       1.000\n",
       "Model:                            OLS   Adj. R-squared:                  1.000\n",
       "Method:                 Least Squares   F-statistic:                 4.401e+23\n",
       "Date:                Wed, 05 May 2021   Prob (F-statistic):               0.00\n",
       "Time:                        13:28:46   Log-Likelihood:                 25597.\n",
       "No. Observations:                1265   AIC:                        -5.118e+04\n",
       "Df Residuals:                    1256   BIC:                        -5.113e+04\n",
       "Df Model:                           8                                         \n",
       "Covariance Type:            nonrobust                                         \n",
       "======================================================================================\n",
       "                         coef    std err          t      P>|t|      [0.025      0.975]\n",
       "--------------------------------------------------------------------------------------\n",
       "const                  6.9237   3.99e-09   1.74e+09      0.000       6.924       6.924\n",
       "vaxView             4.818e-14   4.97e-11      0.001      0.999   -9.75e-11    9.76e-11\n",
       "year               -1.968e-13   1.99e-12     -0.099      0.921    -4.1e-12    3.71e-12\n",
       "lowerLimit            43.5619   2.25e-10   1.94e+11      0.000      43.562      43.562\n",
       "upperLimit            49.0679   2.54e-10   1.93e+11      0.000      49.068      49.068\n",
       "sampleSize         -6.306e-14   2.73e-10     -0.000      1.000   -5.36e-10    5.36e-10\n",
       "confidenceInterval  2.132e-13   1.33e-09      0.000      1.000   -2.61e-09    2.61e-09\n",
       "demographicClass    3.331e-14   4.96e-11      0.001      0.999   -9.73e-11    9.73e-11\n",
       "upperError           -13.9659   7.77e-10   -1.8e+10      0.000     -13.966     -13.966\n",
       "lowerError            19.2472   5.86e-10   3.29e+10      0.000      19.247      19.247\n",
       "==============================================================================\n",
       "Omnibus:                      364.492   Durbin-Watson:                   0.000\n",
       "Prob(Omnibus):                  0.000   Jarque-Bera (JB):               75.179\n",
       "Skew:                          -0.290   Prob(JB):                     4.73e-17\n",
       "Kurtosis:                       1.956   Cond. No.                     2.36e+19\n",
       "==============================================================================\n",
       "\n",
       "Warnings:\n",
       "[1] Standard Errors assume that the covariance matrix of the errors is correctly specified.\n",
       "[2] The smallest eigenvalue is 9.14e-30. This might indicate that there are\n",
       "strong multicollinearity problems or that the design matrix is singular.\n",
       "\"\"\""
      ]
     },
     "execution_count": 7,
     "metadata": {},
     "output_type": "execute_result"
    }
   ],
   "source": [
    "# Building a model with all the variables\n",
    "x_train_lin_model = sm.add_constant(x_train)\n",
    "limmodel_full = sm.OLS(y_train, x_train_lin_model).fit()\n",
    "limmodel_full.summary()"
   ]
  },
  {
   "cell_type": "code",
   "execution_count": 12,
   "metadata": {},
   "outputs": [
    {
     "data": {
      "text/html": [
       "<div>\n",
       "<style scoped>\n",
       "    .dataframe tbody tr th:only-of-type {\n",
       "        vertical-align: middle;\n",
       "    }\n",
       "\n",
       "    .dataframe tbody tr th {\n",
       "        vertical-align: top;\n",
       "    }\n",
       "\n",
       "    .dataframe thead th {\n",
       "        text-align: right;\n",
       "    }\n",
       "</style>\n",
       "<table border=\"1\" class=\"dataframe\">\n",
       "  <thead>\n",
       "    <tr style=\"text-align: right;\">\n",
       "      <th></th>\n",
       "      <th>feature_variables</th>\n",
       "      <th>vif_value</th>\n",
       "    </tr>\n",
       "  </thead>\n",
       "  <tbody>\n",
       "    <tr>\n",
       "      <td>3</td>\n",
       "      <td>upperLimit</td>\n",
       "      <td>1.640319e+08</td>\n",
       "    </tr>\n",
       "    <tr>\n",
       "      <td>2</td>\n",
       "      <td>lowerLimit</td>\n",
       "      <td>1.204973e+08</td>\n",
       "    </tr>\n",
       "    <tr>\n",
       "      <td>8</td>\n",
       "      <td>lowerError</td>\n",
       "      <td>2.520877e+06</td>\n",
       "    </tr>\n",
       "    <tr>\n",
       "      <td>7</td>\n",
       "      <td>upperError</td>\n",
       "      <td>1.460650e+06</td>\n",
       "    </tr>\n",
       "    <tr>\n",
       "      <td>5</td>\n",
       "      <td>confidenceInterval</td>\n",
       "      <td>2.623500e+02</td>\n",
       "    </tr>\n",
       "    <tr>\n",
       "      <td>0</td>\n",
       "      <td>vaxView</td>\n",
       "      <td>1.440000e+00</td>\n",
       "    </tr>\n",
       "    <tr>\n",
       "      <td>1</td>\n",
       "      <td>year</td>\n",
       "      <td>1.300000e+00</td>\n",
       "    </tr>\n",
       "    <tr>\n",
       "      <td>4</td>\n",
       "      <td>sampleSize</td>\n",
       "      <td>1.210000e+00</td>\n",
       "    </tr>\n",
       "    <tr>\n",
       "      <td>6</td>\n",
       "      <td>demographicClass</td>\n",
       "      <td>1.090000e+00</td>\n",
       "    </tr>\n",
       "  </tbody>\n",
       "</table>\n",
       "</div>"
      ],
      "text/plain": [
       "    feature_variables     vif_value\n",
       "3          upperLimit  1.640319e+08\n",
       "2          lowerLimit  1.204973e+08\n",
       "8          lowerError  2.520877e+06\n",
       "7          upperError  1.460650e+06\n",
       "5  confidenceInterval  2.623500e+02\n",
       "0             vaxView  1.440000e+00\n",
       "1                year  1.300000e+00\n",
       "4          sampleSize  1.210000e+00\n",
       "6    demographicClass  1.090000e+00"
      ]
     },
     "execution_count": 12,
     "metadata": {},
     "output_type": "execute_result"
    }
   ],
   "source": [
    "# The model fitting indicates a strong multicollinearity. \n",
    "# Using the VIF value as the criteria, we will eliminate the features with VIF value > 5\n",
    "# Creating a dataframe that will contain the names of all the feature variables and their VIFs\n",
    "\n",
    "vif_value = pd.DataFrame()\n",
    "vif_value['feature_variables'] = x_train.columns\n",
    "vif_value['vif_value'] = [variance_inflation_factor(x_train.values, j) for j in range(x_train.shape[1])]\n",
    "vif_value['vif_value'] = round(vif_value['vif_value'], 2)\n",
    "vif_value = vif_value.sort_values(by = 'vif_value', ascending = False)\n",
    "vif_value\n"
   ]
  },
  {
   "cell_type": "code",
   "execution_count": 13,
   "metadata": {},
   "outputs": [
    {
     "name": "stdout",
     "output_type": "stream",
     "text": [
      "                            OLS Regression Results                            \n",
      "==============================================================================\n",
      "Dep. Variable:                  value   R-squared:                       1.000\n",
      "Model:                            OLS   Adj. R-squared:                  1.000\n",
      "Method:                 Least Squares   F-statistic:                 5.826e+23\n",
      "Date:                Wed, 05 May 2021   Prob (F-statistic):               0.00\n",
      "Time:                        13:34:50   Log-Likelihood:                 25774.\n",
      "No. Observations:                1265   AIC:                        -5.153e+04\n",
      "Df Residuals:                    1256   BIC:                        -5.148e+04\n",
      "Df Model:                           8                                         \n",
      "Covariance Type:            nonrobust                                         \n",
      "======================================================================================\n",
      "                         coef    std err          t      P>|t|      [0.025      0.975]\n",
      "--------------------------------------------------------------------------------------\n",
      "const                  5.8000   3.47e-09   1.67e+09      0.000       5.800       5.800\n",
      "vaxView             7.372e-14   4.32e-11      0.002      0.999   -8.47e-11    8.49e-11\n",
      "year               -1.708e-13   1.73e-12     -0.099      0.921   -3.57e-12    3.22e-12\n",
      "lowerLimit            93.7000   7.59e-11   1.23e+12      0.000      93.700      93.700\n",
      "sampleSize          -4.53e-14   2.38e-10     -0.000      1.000   -4.66e-10    4.66e-10\n",
      "confidenceInterval  9.948e-14   1.16e-09   8.59e-05      1.000   -2.27e-09    2.27e-09\n",
      "demographicClass    9.548e-15   4.31e-11      0.000      1.000   -8.46e-11    8.46e-11\n",
      "upperError         -2.665e-14   7.36e-10  -3.62e-05      1.000   -1.44e-09    1.44e-09\n",
      "lowerError            41.4000   6.02e-10   6.88e+10      0.000      41.400      41.400\n",
      "==============================================================================\n",
      "Omnibus:                      346.828   Durbin-Watson:                   0.000\n",
      "Prob(Omnibus):                  0.000   Jarque-Bera (JB):               74.746\n",
      "Skew:                          -0.295   Prob(JB):                     5.88e-17\n",
      "Kurtosis:                       1.966   Cond. No.                     7.19e+05\n",
      "==============================================================================\n",
      "\n",
      "Warnings:\n",
      "[1] Standard Errors assume that the covariance matrix of the errors is correctly specified.\n",
      "[2] The condition number is large, 7.19e+05. This might indicate that there are\n",
      "strong multicollinearity or other numerical problems.\n"
     ]
    }
   ],
   "source": [
    "# Removing the feature variable with the highest VIF value\n",
    "x = x_train.drop('upperLimit', 1,)\n",
    "\n",
    "# Building a fitted model \n",
    "x_train_lm1 = sm.add_constant(x)\n",
    "lr_1 = sm.OLS(y_train, x_train_lm1).fit()\n",
    "\n",
    "# Print the summary\n",
    "print(lr_1.summary())"
   ]
  },
  {
   "cell_type": "code",
   "execution_count": 16,
   "metadata": {},
   "outputs": [
    {
     "data": {
      "text/html": [
       "<div>\n",
       "<style scoped>\n",
       "    .dataframe tbody tr th:only-of-type {\n",
       "        vertical-align: middle;\n",
       "    }\n",
       "\n",
       "    .dataframe tbody tr th {\n",
       "        vertical-align: top;\n",
       "    }\n",
       "\n",
       "    .dataframe thead th {\n",
       "        text-align: right;\n",
       "    }\n",
       "</style>\n",
       "<table border=\"1\" class=\"dataframe\">\n",
       "  <thead>\n",
       "    <tr style=\"text-align: right;\">\n",
       "      <th></th>\n",
       "      <th>feature_variables</th>\n",
       "      <th>vif_value</th>\n",
       "    </tr>\n",
       "  </thead>\n",
       "  <tbody>\n",
       "    <tr>\n",
       "      <td>4</td>\n",
       "      <td>confidenceInterval</td>\n",
       "      <td>988.25</td>\n",
       "    </tr>\n",
       "    <tr>\n",
       "      <td>6</td>\n",
       "      <td>upperError</td>\n",
       "      <td>425.96</td>\n",
       "    </tr>\n",
       "    <tr>\n",
       "      <td>7</td>\n",
       "      <td>lowerError</td>\n",
       "      <td>195.37</td>\n",
       "    </tr>\n",
       "    <tr>\n",
       "      <td>1</td>\n",
       "      <td>year</td>\n",
       "      <td>58.62</td>\n",
       "    </tr>\n",
       "    <tr>\n",
       "      <td>2</td>\n",
       "      <td>lowerLimit</td>\n",
       "      <td>28.98</td>\n",
       "    </tr>\n",
       "    <tr>\n",
       "      <td>5</td>\n",
       "      <td>demographicClass</td>\n",
       "      <td>2.06</td>\n",
       "    </tr>\n",
       "    <tr>\n",
       "      <td>0</td>\n",
       "      <td>vaxView</td>\n",
       "      <td>1.46</td>\n",
       "    </tr>\n",
       "    <tr>\n",
       "      <td>3</td>\n",
       "      <td>sampleSize</td>\n",
       "      <td>1.30</td>\n",
       "    </tr>\n",
       "  </tbody>\n",
       "</table>\n",
       "</div>"
      ],
      "text/plain": [
       "    feature_variables  vif_value\n",
       "4  confidenceInterval     988.25\n",
       "6          upperError     425.96\n",
       "7          lowerError     195.37\n",
       "1                year      58.62\n",
       "2          lowerLimit      28.98\n",
       "5    demographicClass       2.06\n",
       "0             vaxView       1.46\n",
       "3          sampleSize       1.30"
      ]
     },
     "execution_count": 16,
     "metadata": {},
     "output_type": "execute_result"
    }
   ],
   "source": [
    "vif_value = pd.DataFrame()\n",
    "vif_value['feature_variables'] = x.columns\n",
    "vif_value['vif_value'] = [variance_inflation_factor(x.values, j) for j in range(x.shape[1])]\n",
    "vif_value['vif_value'] = round(vif_value['vif_value'], 2)\n",
    "vif_value = vif_value.sort_values(by = 'vif_value', ascending = False)\n",
    "vif_value"
   ]
  },
  {
   "cell_type": "code",
   "execution_count": 17,
   "metadata": {},
   "outputs": [
    {
     "name": "stdout",
     "output_type": "stream",
     "text": [
      "                            OLS Regression Results                            \n",
      "==============================================================================\n",
      "Dep. Variable:                  value   R-squared:                       1.000\n",
      "Model:                            OLS   Adj. R-squared:                  1.000\n",
      "Method:                 Least Squares   F-statistic:                 7.828e+23\n",
      "Date:                Wed, 05 May 2021   Prob (F-statistic):               0.00\n",
      "Time:                        13:39:40   Log-Likelihood:                 25876.\n",
      "No. Observations:                1265   AIC:                        -5.174e+04\n",
      "Df Residuals:                    1257   BIC:                        -5.169e+04\n",
      "Df Model:                           7                                         \n",
      "Covariance Type:            nonrobust                                         \n",
      "====================================================================================\n",
      "                       coef    std err          t      P>|t|      [0.025      0.975]\n",
      "------------------------------------------------------------------------------------\n",
      "const                5.8000    3.2e-09   1.81e+09      0.000       5.800       5.800\n",
      "vaxView           7.527e-14   3.99e-11      0.002      0.998   -7.81e-11    7.83e-11\n",
      "year             -1.565e-13    1.6e-12     -0.098      0.922   -3.29e-12    2.97e-12\n",
      "lowerLimit          93.7000   6.31e-11   1.49e+12      0.000      93.700      93.700\n",
      "sampleSize       -7.994e-14   2.14e-10     -0.000      1.000    -4.2e-10     4.2e-10\n",
      "demographicClass  -2.62e-14   3.98e-11     -0.001      0.999    -7.8e-11     7.8e-11\n",
      "upperError                0    1.5e-10          0      1.000   -2.94e-10    2.94e-10\n",
      "lowerError          41.4000   1.44e-10   2.88e+11      0.000      41.400      41.400\n",
      "==============================================================================\n",
      "Omnibus:                      346.651   Durbin-Watson:                   0.000\n",
      "Prob(Omnibus):                  0.000   Jarque-Bera (JB):               74.787\n",
      "Skew:                          -0.296   Prob(JB):                     5.76e-17\n",
      "Kurtosis:                       1.966   Cond. No.                     7.19e+05\n",
      "==============================================================================\n",
      "\n",
      "Warnings:\n",
      "[1] Standard Errors assume that the covariance matrix of the errors is correctly specified.\n",
      "[2] The condition number is large, 7.19e+05. This might indicate that there are\n",
      "strong multicollinearity or other numerical problems.\n"
     ]
    }
   ],
   "source": [
    "# Dropping the next variable with highest VIF\n",
    "x = x.drop('confidenceInterval', 1,)\n",
    "\n",
    "# Building a fitted model \n",
    "x_train_lm2 = sm.add_constant(x)\n",
    "\n",
    "lr_2 = sm.OLS(y_train, x_train_lm2).fit()\n",
    "\n",
    "# Print the summary \n",
    "print(lr_2.summary())"
   ]
  },
  {
   "cell_type": "code",
   "execution_count": 18,
   "metadata": {},
   "outputs": [
    {
     "data": {
      "text/html": [
       "<div>\n",
       "<style scoped>\n",
       "    .dataframe tbody tr th:only-of-type {\n",
       "        vertical-align: middle;\n",
       "    }\n",
       "\n",
       "    .dataframe tbody tr th {\n",
       "        vertical-align: top;\n",
       "    }\n",
       "\n",
       "    .dataframe thead th {\n",
       "        text-align: right;\n",
       "    }\n",
       "</style>\n",
       "<table border=\"1\" class=\"dataframe\">\n",
       "  <thead>\n",
       "    <tr style=\"text-align: right;\">\n",
       "      <th></th>\n",
       "      <th>feature_variables</th>\n",
       "      <th>vif_value</th>\n",
       "    </tr>\n",
       "  </thead>\n",
       "  <tbody>\n",
       "    <tr>\n",
       "      <td>1</td>\n",
       "      <td>year</td>\n",
       "      <td>42.48</td>\n",
       "    </tr>\n",
       "    <tr>\n",
       "      <td>2</td>\n",
       "      <td>lowerLimit</td>\n",
       "      <td>23.50</td>\n",
       "    </tr>\n",
       "    <tr>\n",
       "      <td>5</td>\n",
       "      <td>upperError</td>\n",
       "      <td>20.85</td>\n",
       "    </tr>\n",
       "    <tr>\n",
       "      <td>6</td>\n",
       "      <td>lowerError</td>\n",
       "      <td>13.13</td>\n",
       "    </tr>\n",
       "    <tr>\n",
       "      <td>4</td>\n",
       "      <td>demographicClass</td>\n",
       "      <td>2.06</td>\n",
       "    </tr>\n",
       "    <tr>\n",
       "      <td>0</td>\n",
       "      <td>vaxView</td>\n",
       "      <td>1.46</td>\n",
       "    </tr>\n",
       "    <tr>\n",
       "      <td>3</td>\n",
       "      <td>sampleSize</td>\n",
       "      <td>1.24</td>\n",
       "    </tr>\n",
       "  </tbody>\n",
       "</table>\n",
       "</div>"
      ],
      "text/plain": [
       "  feature_variables  vif_value\n",
       "1              year      42.48\n",
       "2        lowerLimit      23.50\n",
       "5        upperError      20.85\n",
       "6        lowerError      13.13\n",
       "4  demographicClass       2.06\n",
       "0           vaxView       1.46\n",
       "3        sampleSize       1.24"
      ]
     },
     "execution_count": 18,
     "metadata": {},
     "output_type": "execute_result"
    }
   ],
   "source": [
    "vif_value = pd.DataFrame()\n",
    "vif_value['feature_variables'] = x.columns\n",
    "vif_value['vif_value'] = [variance_inflation_factor(x.values, j) for j in range(x.shape[1])]\n",
    "vif_value['vif_value'] = round(vif_value['vif_value'], 2)\n",
    "vif_value = vif_value.sort_values(by = 'vif_value', ascending = False)\n",
    "vif_value"
   ]
  },
  {
   "cell_type": "code",
   "execution_count": 19,
   "metadata": {},
   "outputs": [
    {
     "name": "stdout",
     "output_type": "stream",
     "text": [
      "                            OLS Regression Results                            \n",
      "==============================================================================\n",
      "Dep. Variable:                  value   R-squared:                       1.000\n",
      "Model:                            OLS   Adj. R-squared:                  1.000\n",
      "Method:                 Least Squares   F-statistic:                 1.612e+32\n",
      "Date:                Wed, 05 May 2021   Prob (F-statistic):               0.00\n",
      "Time:                        13:40:17   Log-Likelihood:                 37886.\n",
      "No. Observations:                1265   AIC:                        -7.576e+04\n",
      "Df Residuals:                    1258   BIC:                        -7.572e+04\n",
      "Df Model:                           6                                         \n",
      "Covariance Type:            nonrobust                                         \n",
      "====================================================================================\n",
      "                       coef    std err          t      P>|t|      [0.025      0.975]\n",
      "------------------------------------------------------------------------------------\n",
      "const                5.8000   4.37e-15   1.33e+15      0.000       5.800       5.800\n",
      "vaxView           2.709e-14   2.72e-15      9.971      0.000    2.18e-14    3.24e-14\n",
      "lowerLimit          93.7000   4.74e-15   1.98e+16      0.000      93.700      93.700\n",
      "sampleSize        5.418e-14   1.61e-14      3.364      0.001    2.26e-14    8.58e-14\n",
      "demographicClass -9.326e-15   2.92e-15     -3.192      0.001   -1.51e-14   -3.59e-15\n",
      "upperError        3.908e-14   1.13e-14      3.459      0.001    1.69e-14    6.12e-14\n",
      "lowerError          41.4000   1.08e-14   3.82e+15      0.000      41.400      41.400\n",
      "==============================================================================\n",
      "Omnibus:                       42.609   Durbin-Watson:                   0.870\n",
      "Prob(Omnibus):                  0.000   Jarque-Bera (JB):               46.234\n",
      "Skew:                          -0.463   Prob(JB):                     9.13e-11\n",
      "Kurtosis:                       2.856   Cond. No.                         31.3\n",
      "==============================================================================\n",
      "\n",
      "Warnings:\n",
      "[1] Standard Errors assume that the covariance matrix of the errors is correctly specified.\n"
     ]
    }
   ],
   "source": [
    "# Dropping the next variable with highest VIF\n",
    "x = x.drop('year', 1,)\n",
    "\n",
    "# Building a fitted model \n",
    "x_train_lm3 = sm.add_constant(x)\n",
    "\n",
    "lr_3 = sm.OLS(y_train, x_train_lm3).fit()\n",
    "\n",
    "# Print the summary\n",
    "print(lr_3.summary())"
   ]
  },
  {
   "cell_type": "code",
   "execution_count": 20,
   "metadata": {},
   "outputs": [
    {
     "data": {
      "text/html": [
       "<div>\n",
       "<style scoped>\n",
       "    .dataframe tbody tr th:only-of-type {\n",
       "        vertical-align: middle;\n",
       "    }\n",
       "\n",
       "    .dataframe tbody tr th {\n",
       "        vertical-align: top;\n",
       "    }\n",
       "\n",
       "    .dataframe thead th {\n",
       "        text-align: right;\n",
       "    }\n",
       "</style>\n",
       "<table border=\"1\" class=\"dataframe\">\n",
       "  <thead>\n",
       "    <tr style=\"text-align: right;\">\n",
       "      <th></th>\n",
       "      <th>feature_variables</th>\n",
       "      <th>vif_value</th>\n",
       "    </tr>\n",
       "  </thead>\n",
       "  <tbody>\n",
       "    <tr>\n",
       "      <td>5</td>\n",
       "      <td>lowerError</td>\n",
       "      <td>11.50</td>\n",
       "    </tr>\n",
       "    <tr>\n",
       "      <td>4</td>\n",
       "      <td>upperError</td>\n",
       "      <td>9.88</td>\n",
       "    </tr>\n",
       "    <tr>\n",
       "      <td>1</td>\n",
       "      <td>lowerLimit</td>\n",
       "      <td>2.88</td>\n",
       "    </tr>\n",
       "    <tr>\n",
       "      <td>3</td>\n",
       "      <td>demographicClass</td>\n",
       "      <td>2.03</td>\n",
       "    </tr>\n",
       "    <tr>\n",
       "      <td>0</td>\n",
       "      <td>vaxView</td>\n",
       "      <td>1.34</td>\n",
       "    </tr>\n",
       "    <tr>\n",
       "      <td>2</td>\n",
       "      <td>sampleSize</td>\n",
       "      <td>1.14</td>\n",
       "    </tr>\n",
       "  </tbody>\n",
       "</table>\n",
       "</div>"
      ],
      "text/plain": [
       "  feature_variables  vif_value\n",
       "5        lowerError      11.50\n",
       "4        upperError       9.88\n",
       "1        lowerLimit       2.88\n",
       "3  demographicClass       2.03\n",
       "0           vaxView       1.34\n",
       "2        sampleSize       1.14"
      ]
     },
     "execution_count": 20,
     "metadata": {},
     "output_type": "execute_result"
    }
   ],
   "source": [
    "vif_value = pd.DataFrame()\n",
    "vif_value['feature_variables'] = x.columns\n",
    "vif_value['vif_value'] = [variance_inflation_factor(x.values, j) for j in range(x.shape[1])]\n",
    "vif_value['vif_value'] = round(vif_value['vif_value'], 2)\n",
    "vif_value = vif_value.sort_values(by = 'vif_value', ascending = False)\n",
    "vif_value"
   ]
  },
  {
   "cell_type": "code",
   "execution_count": 21,
   "metadata": {},
   "outputs": [
    {
     "name": "stdout",
     "output_type": "stream",
     "text": [
      "                            OLS Regression Results                            \n",
      "==============================================================================\n",
      "Dep. Variable:                  value   R-squared:                       0.985\n",
      "Model:                            OLS   Adj. R-squared:                  0.985\n",
      "Method:                 Least Squares   F-statistic:                 1.640e+04\n",
      "Date:                Wed, 05 May 2021   Prob (F-statistic):               0.00\n",
      "Time:                        13:40:55   Log-Likelihood:                -2988.1\n",
      "No. Observations:                1265   AIC:                             5988.\n",
      "Df Residuals:                    1259   BIC:                             6019.\n",
      "Df Model:                           5                                         \n",
      "Covariance Type:            nonrobust                                         \n",
      "====================================================================================\n",
      "                       coef    std err          t      P>|t|      [0.025      0.975]\n",
      "------------------------------------------------------------------------------------\n",
      "const               -0.0926      0.440     -0.210      0.833      -0.956       0.771\n",
      "vaxView             -0.4939      0.292     -1.689      0.091      -1.068       0.080\n",
      "lowerLimit         102.3226      0.449    227.919      0.000     101.442     103.203\n",
      "sampleSize          -2.4426      1.734     -1.408      0.159      -5.845       0.960\n",
      "demographicClass     1.1240      0.313      3.589      0.000       0.510       1.738\n",
      "upperError          35.0082      0.713     49.083      0.000      33.609      36.408\n",
      "==============================================================================\n",
      "Omnibus:                      627.349   Durbin-Watson:                   1.958\n",
      "Prob(Omnibus):                  0.000   Jarque-Bera (JB):             4163.628\n",
      "Skew:                           2.231   Prob(JB):                         0.00\n",
      "Kurtosis:                      10.687   Cond. No.                         30.4\n",
      "==============================================================================\n",
      "\n",
      "Warnings:\n",
      "[1] Standard Errors assume that the covariance matrix of the errors is correctly specified.\n"
     ]
    }
   ],
   "source": [
    "# Dropping the next variable with highest VIF\n",
    "x = x.drop('lowerError', 1,)\n",
    "\n",
    "# Building a fitted model \n",
    "x_train_lm4 = sm.add_constant(x)\n",
    "\n",
    "lr_4 = sm.OLS(y_train, x_train_lm4).fit()\n",
    "\n",
    "# Print the summary\n",
    "print(lr_4.summary())"
   ]
  },
  {
   "cell_type": "code",
   "execution_count": 22,
   "metadata": {},
   "outputs": [
    {
     "data": {
      "text/html": [
       "<div>\n",
       "<style scoped>\n",
       "    .dataframe tbody tr th:only-of-type {\n",
       "        vertical-align: middle;\n",
       "    }\n",
       "\n",
       "    .dataframe tbody tr th {\n",
       "        vertical-align: top;\n",
       "    }\n",
       "\n",
       "    .dataframe thead th {\n",
       "        text-align: right;\n",
       "    }\n",
       "</style>\n",
       "<table border=\"1\" class=\"dataframe\">\n",
       "  <thead>\n",
       "    <tr style=\"text-align: right;\">\n",
       "      <th></th>\n",
       "      <th>feature_variables</th>\n",
       "      <th>vif_value</th>\n",
       "    </tr>\n",
       "  </thead>\n",
       "  <tbody>\n",
       "    <tr>\n",
       "      <td>4</td>\n",
       "      <td>upperError</td>\n",
       "      <td>2.56</td>\n",
       "    </tr>\n",
       "    <tr>\n",
       "      <td>1</td>\n",
       "      <td>lowerLimit</td>\n",
       "      <td>2.31</td>\n",
       "    </tr>\n",
       "    <tr>\n",
       "      <td>3</td>\n",
       "      <td>demographicClass</td>\n",
       "      <td>2.02</td>\n",
       "    </tr>\n",
       "    <tr>\n",
       "      <td>0</td>\n",
       "      <td>vaxView</td>\n",
       "      <td>1.31</td>\n",
       "    </tr>\n",
       "    <tr>\n",
       "      <td>2</td>\n",
       "      <td>sampleSize</td>\n",
       "      <td>1.11</td>\n",
       "    </tr>\n",
       "  </tbody>\n",
       "</table>\n",
       "</div>"
      ],
      "text/plain": [
       "  feature_variables  vif_value\n",
       "4        upperError       2.56\n",
       "1        lowerLimit       2.31\n",
       "3  demographicClass       2.02\n",
       "0           vaxView       1.31\n",
       "2        sampleSize       1.11"
      ]
     },
     "execution_count": 22,
     "metadata": {},
     "output_type": "execute_result"
    }
   ],
   "source": [
    "vif_value = pd.DataFrame()\n",
    "vif_value['feature_variables'] = x.columns\n",
    "vif_value['vif_value'] = [variance_inflation_factor(x.values, j) for j in range(x.shape[1])]\n",
    "vif_value['vif_value'] = round(vif_value['vif_value'], 2)\n",
    "vif_value = vif_value.sort_values(by = 'vif_value', ascending = False)\n",
    "vif_value"
   ]
  },
  {
   "cell_type": "code",
   "execution_count": null,
   "metadata": {},
   "outputs": [],
   "source": [
    "# We see that the VIF values for all feature variables is below 5\n",
    "# But a few varaible have a p-value> 0.005, which will have to be dropped as well."
   ]
  },
  {
   "cell_type": "code",
   "execution_count": 23,
   "metadata": {},
   "outputs": [
    {
     "name": "stdout",
     "output_type": "stream",
     "text": [
      "                            OLS Regression Results                            \n",
      "==============================================================================\n",
      "Dep. Variable:                  value   R-squared:                       0.985\n",
      "Model:                            OLS   Adj. R-squared:                  0.985\n",
      "Method:                 Least Squares   F-statistic:                 2.049e+04\n",
      "Date:                Wed, 05 May 2021   Prob (F-statistic):               0.00\n",
      "Time:                        13:44:39   Log-Likelihood:                -2989.1\n",
      "No. Observations:                1265   AIC:                             5988.\n",
      "Df Residuals:                    1260   BIC:                             6014.\n",
      "Df Model:                           4                                         \n",
      "Covariance Type:            nonrobust                                         \n",
      "====================================================================================\n",
      "                       coef    std err          t      P>|t|      [0.025      0.975]\n",
      "------------------------------------------------------------------------------------\n",
      "const               -0.2968      0.416     -0.714      0.476      -1.113       0.519\n",
      "vaxView             -0.5185      0.292     -1.776      0.076      -1.091       0.054\n",
      "lowerLimit         102.4691      0.437    234.538      0.000     101.612     103.326\n",
      "demographicClass     1.1329      0.313      3.617      0.000       0.518       1.747\n",
      "upperError          35.3507      0.671     52.700      0.000      34.035      36.667\n",
      "==============================================================================\n",
      "Omnibus:                      625.725   Durbin-Watson:                   1.958\n",
      "Prob(Omnibus):                  0.000   Jarque-Bera (JB):             4173.732\n",
      "Skew:                           2.221   Prob(JB):                         0.00\n",
      "Kurtosis:                      10.710   Cond. No.                         14.3\n",
      "==============================================================================\n",
      "\n",
      "Warnings:\n",
      "[1] Standard Errors assume that the covariance matrix of the errors is correctly specified.\n"
     ]
    }
   ],
   "source": [
    "# Dropping the next variable with high p-value\n",
    "x = x.drop('sampleSize', 1,)\n",
    "\n",
    "# Building a fitted model \n",
    "x_train_lm5 = sm.add_constant(x)\n",
    "\n",
    "lr_5 = sm.OLS(y_train, x_train_lm5).fit()\n",
    "\n",
    "# Print the summary\n",
    "print(lr_5.summary())"
   ]
  },
  {
   "cell_type": "code",
   "execution_count": 25,
   "metadata": {},
   "outputs": [
    {
     "name": "stdout",
     "output_type": "stream",
     "text": [
      "                            OLS Regression Results                            \n",
      "==============================================================================\n",
      "Dep. Variable:                  value   R-squared:                       0.985\n",
      "Model:                            OLS   Adj. R-squared:                  0.985\n",
      "Method:                 Least Squares   F-statistic:                 2.727e+04\n",
      "Date:                Wed, 05 May 2021   Prob (F-statistic):               0.00\n",
      "Time:                        13:46:08   Log-Likelihood:                -2990.7\n",
      "No. Observations:                1265   AIC:                             5989.\n",
      "Df Residuals:                    1261   BIC:                             6010.\n",
      "Df Model:                           3                                         \n",
      "Covariance Type:            nonrobust                                         \n",
      "====================================================================================\n",
      "                       coef    std err          t      P>|t|      [0.025      0.975]\n",
      "------------------------------------------------------------------------------------\n",
      "const               -0.5570      0.390     -1.430      0.153      -1.321       0.207\n",
      "lowerLimit         102.7368      0.410    250.330      0.000     101.932     103.542\n",
      "demographicClass     1.1272      0.314      3.595      0.000       0.512       1.742\n",
      "upperError          35.4450      0.669     52.962      0.000      34.132      36.758\n",
      "==============================================================================\n",
      "Omnibus:                      624.252   Durbin-Watson:                   1.955\n",
      "Prob(Omnibus):                  0.000   Jarque-Bera (JB):             4163.655\n",
      "Skew:                           2.214   Prob(JB):                         0.00\n",
      "Kurtosis:                      10.706   Cond. No.                         13.9\n",
      "==============================================================================\n",
      "\n",
      "Warnings:\n",
      "[1] Standard Errors assume that the covariance matrix of the errors is correctly specified.\n"
     ]
    }
   ],
   "source": [
    "# Dropping the next variable with high p-value\n",
    "x = x.drop('vaxView', 1,)\n",
    "\n",
    "# Building a fitted model \n",
    "x_train_lm6 = sm.add_constant(x)\n",
    "\n",
    "lr_6 = sm.OLS(y_train, x_train_lm6).fit()\n",
    "\n",
    "# Print the summary\n",
    "print(lr_6.summary())"
   ]
  },
  {
   "cell_type": "code",
   "execution_count": 27,
   "metadata": {},
   "outputs": [
    {
     "data": {
      "text/plain": [
       "Text(0.5, 0, 'Errors')"
      ]
     },
     "execution_count": 27,
     "metadata": {},
     "output_type": "execute_result"
    },
    {
     "data": {
      "image/png": "[encoded data removed]",
      "text/plain": [
       "<Figure size 432x288 with 1 Axes>"
      ]
     },
     "metadata": {
      "needs_background": "light"
     },
     "output_type": "display_data"
    }
   ],
   "source": [
    "# Checking if the error distribution is normal\n",
    "y_train_price = lr_6.predict(x_train_lm6)\n",
    "\n",
    "# Plotting the histogram \n",
    "fig = plt.figure()\n",
    "sns.distplot((y_train - y_train_price), bins = 20)\n",
    "fig.suptitle('Error Term Distribution', fontsize = 15)                  \n",
    "plt.xlabel('Errors', fontsize = 15)     "
   ]
  },
  {
   "cell_type": "code",
   "execution_count": 28,
   "metadata": {},
   "outputs": [],
   "source": [
    "# Running the final model on the test dataset\n",
    "y_test = df_test.pop('value')\n",
    "x_test = df_test\n",
    "\n",
    "# Adding a constant variable to the test dataframe\n",
    "x_test_m6 = sm.add_constant(x_test)\n",
    "\n",
    "# Creating a dataframe by dropping variables \n",
    "x_test_m6 = x_test_m6.drop([\"upperLimit\", \"confidenceInterval\", \"year\", \"lowerError\",\"sampleSize\",\"vaxView\"], axis = 1)\n",
    "\n",
    "# Making predictions using the final model\n",
    "y_pred_m6 = lr_6.predict(x_test_m6)"
   ]
  },
  {
   "cell_type": "code",
   "execution_count": 29,
   "metadata": {},
   "outputs": [
    {
     "data": {
      "text/plain": [
       "0.9761129427582418"
      ]
     },
     "execution_count": 29,
     "metadata": {},
     "output_type": "execute_result"
    }
   ],
   "source": [
    "from sklearn.metrics import r2_score\n",
    "r2_score(y_true = y_test, y_pred = y_pred_m6)"
   ]
  },
  {
   "cell_type": "code",
   "execution_count": 31,
   "metadata": {},
   "outputs": [
    {
     "data": {
      "text/plain": [
       "<matplotlib.legend.Legend at 0x2a5cc932d48>"
      ]
     },
     "execution_count": 31,
     "metadata": {},
     "output_type": "execute_result"
    },
    {
     "data": {
      "image/png": "[encoded data removed]",
      "text/plain": [
       "<Figure size 432x288 with 1 Axes>"
      ]
     },
     "metadata": {
      "needs_background": "light"
     },
     "output_type": "display_data"
    }
   ],
   "source": [
    "# Plotting the predicted values against the actual values\n",
    "sb.distplot(y_pred_m6, hist = False, color = 'r', label = 'Predicted')\n",
    "sb.distplot(y_test, hist = False, color = 'b', label = 'Actual Values')\n",
    "plt.title('Actual vs Predicted Values', fontsize = 16)\n",
    "plt.xlabel('Values', fontsize = 10)\n",
    "plt.ylabel('Frequency', fontsize = 10)\n",
    "plt.legend(loc = 'upper left', fontsize = 10)\n",
    "\n",
    "# plt.savefig('ap.png')"
   ]
  },
  {
   "cell_type": "code",
   "execution_count": null,
   "metadata": {},
   "outputs": [],
   "source": []
  }
 ],
 "metadata": {
  "kernelspec": {
   "display_name": "Python 3",
   "language": "python",
   "name": "python3"
  },
  "language_info": {
   "codemirror_mode": {
    "name": "ipython",
    "version": 3
   },
   "file_extension": ".py",
   "mimetype": "text/x-python",
   "name": "python",
   "nbconvert_exporter": "python",
   "pygments_lexer": "ipython3",
   "version": "3.7.4"
  }
 },
 "nbformat": 4,
 "nbformat_minor": 2
}
