{
 "cells": [
  {
   "cell_type": "code",
   "execution_count": 143,
   "metadata": {},
   "outputs": [],
   "source": [
    "import pandas as pd\n",
    "import numpy as np\n",
    "import statsmodels.api as sm\n",
    "import itertools\n",
    "import matplotlib.pyplot as plt\n",
    "from sklearn.model_selection import train_test_split\n",
    "from sklearn.metrics import mean_squared_error\n",
    "%matplotlib inline"
   ]
  },
  {
   "cell_type": "code",
   "execution_count": 37,
   "metadata": {},
   "outputs": [
    {
     "data": {
      "text/html": [
       "<div>\n",
       "<style scoped>\n",
       "    .dataframe tbody tr th:only-of-type {\n",
       "        vertical-align: middle;\n",
       "    }\n",
       "\n",
       "    .dataframe tbody tr th {\n",
       "        vertical-align: top;\n",
       "    }\n",
       "\n",
       "    .dataframe thead th {\n",
       "        text-align: right;\n",
       "    }\n",
       "</style>\n",
       "<table border=\"1\" class=\"dataframe\">\n",
       "  <thead>\n",
       "    <tr style=\"text-align: right;\">\n",
       "      <th></th>\n",
       "      <th>vaxView</th>\n",
       "      <th>year</th>\n",
       "      <th>value</th>\n",
       "      <th>lowerLimit</th>\n",
       "      <th>upperLimit</th>\n",
       "      <th>sampleSize</th>\n",
       "      <th>confidenceInterval</th>\n",
       "      <th>demographicClass</th>\n",
       "      <th>upperError</th>\n",
       "      <th>lowerError</th>\n",
       "    </tr>\n",
       "  </thead>\n",
       "  <tbody>\n",
       "    <tr>\n",
       "      <th>0</th>\n",
       "      <td>0</td>\n",
       "      <td>2001</td>\n",
       "      <td>92.2</td>\n",
       "      <td>89.1</td>\n",
       "      <td>94.4</td>\n",
       "      <td>562.0</td>\n",
       "      <td>2.7</td>\n",
       "      <td>1</td>\n",
       "      <td>2.2</td>\n",
       "      <td>3.1</td>\n",
       "    </tr>\n",
       "    <tr>\n",
       "      <th>1</th>\n",
       "      <td>0</td>\n",
       "      <td>2003</td>\n",
       "      <td>77.3</td>\n",
       "      <td>61.4</td>\n",
       "      <td>87.9</td>\n",
       "      <td>54.0</td>\n",
       "      <td>13.3</td>\n",
       "      <td>2</td>\n",
       "      <td>10.6</td>\n",
       "      <td>15.9</td>\n",
       "    </tr>\n",
       "    <tr>\n",
       "      <th>2</th>\n",
       "      <td>0</td>\n",
       "      <td>2010</td>\n",
       "      <td>75.7</td>\n",
       "      <td>68.5</td>\n",
       "      <td>81.7</td>\n",
       "      <td>332.0</td>\n",
       "      <td>6.6</td>\n",
       "      <td>1</td>\n",
       "      <td>6.0</td>\n",
       "      <td>7.2</td>\n",
       "    </tr>\n",
       "    <tr>\n",
       "      <th>3</th>\n",
       "      <td>0</td>\n",
       "      <td>2017</td>\n",
       "      <td>76.9</td>\n",
       "      <td>75.3</td>\n",
       "      <td>78.5</td>\n",
       "      <td>11392.0</td>\n",
       "      <td>1.6</td>\n",
       "      <td>3</td>\n",
       "      <td>1.6</td>\n",
       "      <td>1.6</td>\n",
       "    </tr>\n",
       "    <tr>\n",
       "      <th>4</th>\n",
       "      <td>1</td>\n",
       "      <td>2015</td>\n",
       "      <td>45.3</td>\n",
       "      <td>38.1</td>\n",
       "      <td>52.5</td>\n",
       "      <td>461.0</td>\n",
       "      <td>7.2</td>\n",
       "      <td>1</td>\n",
       "      <td>7.2</td>\n",
       "      <td>7.2</td>\n",
       "    </tr>\n",
       "  </tbody>\n",
       "</table>\n",
       "</div>"
      ],
      "text/plain": [
       "   vaxView  year  value  lowerLimit  upperLimit  sampleSize  \\\n",
       "0        0  2001   92.2        89.1        94.4       562.0   \n",
       "1        0  2003   77.3        61.4        87.9        54.0   \n",
       "2        0  2010   75.7        68.5        81.7       332.0   \n",
       "3        0  2017   76.9        75.3        78.5     11392.0   \n",
       "4        1  2015   45.3        38.1        52.5       461.0   \n",
       "\n",
       "   confidenceInterval  demographicClass  upperError  lowerError  \n",
       "0                 2.7                 1         2.2         3.1  \n",
       "1                13.3                 2        10.6        15.9  \n",
       "2                 6.6                 1         6.0         7.2  \n",
       "3                 1.6                 3         1.6         1.6  \n",
       "4                 7.2                 1         7.2         7.2  "
      ]
     },
     "execution_count": 37,
     "metadata": {},
     "output_type": "execute_result"
    }
   ],
   "source": [
    "data = pd.read_csv('Cleaned-data-vc.csv', index_col=False)\n",
    "data.head()"
   ]
  },
  {
   "cell_type": "code",
   "execution_count": 38,
   "metadata": {},
   "outputs": [],
   "source": [
    "y = data['value']  # assign the predictor to y\n",
    "X = data.drop(['value'], axis=1).astype('float64')  # dropping the predictor"
   ]
  },
  {
   "cell_type": "code",
   "execution_count": 65,
   "metadata": {},
   "outputs": [],
   "source": [
    "def get_stats():\n",
    "    results = sm.OLS(y, X).fit()\n",
    "    print(results.summary())"
   ]
  },
  {
   "cell_type": "code",
   "execution_count": 66,
   "metadata": {},
   "outputs": [
    {
     "name": "stdout",
     "output_type": "stream",
     "text": [
      "                                 OLS Regression Results                                \n",
      "=======================================================================================\n",
      "Dep. Variable:                  value   R-squared (uncentered):                   1.000\n",
      "Model:                            OLS   Adj. R-squared (uncentered):              1.000\n",
      "Method:                 Least Squares   F-statistic:                          7.116e+29\n",
      "Date:                Tue, 04 May 2021   Prob (F-statistic):                        0.00\n",
      "Time:                        20:31:04   Log-Likelihood:                          46810.\n",
      "No. Observations:                1808   AIC:                                 -9.360e+04\n",
      "Df Residuals:                    1800   BIC:                                 -9.356e+04\n",
      "Df Model:                           8                                                  \n",
      "Covariance Type:            nonrobust                                                  \n",
      "======================================================================================\n",
      "                         coef    std err          t      P>|t|      [0.025      0.975]\n",
      "--------------------------------------------------------------------------------------\n",
      "vaxView            -9.881e-15   4.39e-14     -0.225      0.822    -9.6e-14    7.63e-14\n",
      "year                3.391e-16   1.32e-16      2.562      0.010    7.95e-17    5.99e-16\n",
      "lowerLimit             0.5000   3.13e-14    1.6e+13      0.000       0.500       0.500\n",
      "upperLimit             0.5000   3.25e-14   1.54e+13      0.000       0.500       0.500\n",
      "sampleSize         -7.571e-16   2.09e-17    -36.278      0.000   -7.98e-16   -7.16e-16\n",
      "confidenceInterval -6.661e-16   1.16e-13     -0.006      0.995   -2.28e-13    2.26e-13\n",
      "demographicClass   -8.882e-16   1.18e-14     -0.076      0.940    -2.4e-14    2.22e-14\n",
      "upperError            -0.5000   5.53e-14  -9.04e+12      0.000      -0.500      -0.500\n",
      "lowerError             0.5000   1.75e-14   2.85e+13      0.000       0.500       0.500\n",
      "==============================================================================\n",
      "Omnibus:                     3098.478   Durbin-Watson:                   1.753\n",
      "Prob(Omnibus):                  0.000   Jarque-Bera (JB):          2215493.309\n",
      "Skew:                          11.598   Prob(JB):                         0.00\n",
      "Kurtosis:                     172.915   Cond. No.                     2.48e+17\n",
      "==============================================================================\n",
      "\n",
      "Notes:\n",
      "[1] R² is computed without centering (uncentered) since the model does not contain a constant.\n",
      "[2] Standard Errors assume that the covariance matrix of the errors is correctly specified.\n",
      "[3] The smallest eigenvalue is 1.36e-25. This might indicate that there are\n",
      "strong multicollinearity problems or that the design matrix is singular.\n"
     ]
    }
   ],
   "source": [
    "get_stats()"
   ]
  },
  {
   "cell_type": "code",
   "execution_count": 41,
   "metadata": {},
   "outputs": [],
   "source": [
    "X.drop(columns=['vaxView', 'confidenceInterval', 'demographicClass', 'year'], inplace=True)"
   ]
  },
  {
   "cell_type": "code",
   "execution_count": 42,
   "metadata": {},
   "outputs": [
    {
     "name": "stdout",
     "output_type": "stream",
     "text": [
      "                                 OLS Regression Results                                \n",
      "=======================================================================================\n",
      "Dep. Variable:                  value   R-squared (uncentered):                   1.000\n",
      "Model:                            OLS   Adj. R-squared (uncentered):              1.000\n",
      "Method:                 Least Squares   F-statistic:                          6.602e+30\n",
      "Date:                Tue, 04 May 2021   Prob (F-statistic):                        0.00\n",
      "Time:                        20:19:46   Log-Likelihood:                          48195.\n",
      "No. Observations:                1808   AIC:                                 -9.638e+04\n",
      "Df Residuals:                    1804   BIC:                                 -9.636e+04\n",
      "Df Model:                           4                                                  \n",
      "Covariance Type:            nonrobust                                                  \n",
      "==============================================================================\n",
      "                 coef    std err          t      P>|t|      [0.025      0.975]\n",
      "------------------------------------------------------------------------------\n",
      "lowerLimit     0.5000    9.3e-16   5.38e+14      0.000       0.500       0.500\n",
      "upperLimit     0.5000   6.93e-16   7.21e+14      0.000       0.500       0.500\n",
      "sampleSize -3.742e-16   9.09e-18    -41.176      0.000   -3.92e-16   -3.56e-16\n",
      "upperError    -0.5000   5.75e-15   -8.7e+13      0.000      -0.500      -0.500\n",
      "lowerError     0.5000   5.28e-15   9.46e+13      0.000       0.500       0.500\n",
      "==============================================================================\n",
      "Omnibus:                     3143.744   Durbin-Watson:                   1.895\n",
      "Prob(Omnibus):                  0.000   Jarque-Bera (JB):          2434884.439\n",
      "Skew:                          11.932   Prob(JB):                         0.00\n",
      "Kurtosis:                     181.191   Cond. No.                     3.38e+17\n",
      "==============================================================================\n",
      "\n",
      "Notes:\n",
      "[1] R² is computed without centering (uncentered) since the model does not contain a constant.\n",
      "[2] Standard Errors assume that the covariance matrix of the errors is correctly specified.\n",
      "[3] The smallest eigenvalue is 4.79e-26. This might indicate that there are\n",
      "strong multicollinearity problems or that the design matrix is singular.\n"
     ]
    }
   ],
   "source": [
    "get_stats()"
   ]
  },
  {
   "cell_type": "markdown",
   "metadata": {},
   "source": [
    "## Best subset selection"
   ]
  },
  {
   "cell_type": "code",
   "execution_count": 183,
   "metadata": {},
   "outputs": [],
   "source": [
    "X = data.drop(['value'], axis=1).astype('float64') "
   ]
  },
  {
   "cell_type": "code",
   "execution_count": 184,
   "metadata": {},
   "outputs": [],
   "source": [
    "def processSubset(feature_set):\n",
    "    # Fit model on feature_set and calculate RSS\n",
    "    model = sm.OLS(y,X[list(feature_set)])\n",
    "    regr = model.fit()\n",
    "    RSS = ((regr.predict(X[list(feature_set)]) - y) ** 2).sum()\n",
    "    return {\"model\":regr, \"RSS\":RSS, \"AIC\": regr.aic,  \"BIC\": regr.bic, \"features\": list(feature_set)}"
   ]
  },
  {
   "cell_type": "code",
   "execution_count": 229,
   "metadata": {},
   "outputs": [],
   "source": [
    "def getBest(k):\n",
    "    \n",
    "    results = []\n",
    "    \n",
    "    for combo in itertools.combinations(X.columns, k):\n",
    "        results.append(processSubset(combo))\n",
    "\n",
    "    models = pd.DataFrame(results)\n",
    "\n",
    "    df = models[models['AIC'] == models['AIC'].min()]\n",
    "\n",
    "    best_model_aic = df.iloc[0]\n",
    "\n",
    "    print(\"Processed\", models.shape[0], \"models on\", k, \"predictors\")\n",
    "\n",
    "    return best_model_aic"
   ]
  },
  {
   "cell_type": "code",
   "execution_count": 230,
   "metadata": {},
   "outputs": [
    {
     "name": "stdout",
     "output_type": "stream",
     "text": [
      "Processed 9 models on 1 predictors\n",
      "Processed 36 models on 2 predictors\n",
      "Processed 84 models on 3 predictors\n",
      "Processed 126 models on 4 predictors\n",
      "Processed 126 models on 5 predictors\n",
      "Processed 84 models on 6 predictors\n",
      "Processed 36 models on 7 predictors\n",
      "Processed 9 models on 8 predictors\n",
      "Processed 1 models on 9 predictors\n"
     ]
    }
   ],
   "source": [
    "models_best = pd.DataFrame(columns=[\"RSS\", \"model\", \"AIC\", \"BIC\", \"features\"])\n",
    "\n",
    "for i in range(1,10):\n",
    "    models_best.loc[i] = getBest(i)"
   ]
  },
  {
   "cell_type": "code",
   "execution_count": 231,
   "metadata": {},
   "outputs": [
    {
     "name": "stdout",
     "output_type": "stream",
     "text": [
      "RSS                                               1.77365e-24\n",
      "model       <statsmodels.regression.linear_model.Regressio...\n",
      "AIC                                                   -107303\n",
      "BIC                                                   -107292\n",
      "features                             [lowerLimit, lowerError]\n",
      "Name: 2, dtype: object\n"
     ]
    },
    {
     "data": {
      "image/png": "[encoded data removed]",
      "text/plain": [
       "<Figure size 1440x720 with 4 Axes>"
      ]
     },
     "metadata": {
      "needs_background": "light"
     },
     "output_type": "display_data"
    }
   ],
   "source": [
    "plt.figure(figsize=(20,10))\n",
    "plt.rcParams.update({'font.size': 18, 'lines.markersize': 10})\n",
    "\n",
    "# Set up a 2x2 grid so we can look at 4 plots at once\n",
    "plt.subplot(2, 2, 1)\n",
    "\n",
    "# We will now plot a red dot to indicate the model with the largest adjusted R^2 statistic.\n",
    "# The argmax() function can be used to identify the location of the maximum point of a vector\n",
    "plt.plot(models_best[\"RSS\"])\n",
    "plt.xlabel('# Predictors')\n",
    "plt.ylabel('RSS')\n",
    "\n",
    "# We will now plot a red dot to indicate the model with the largest adjusted R^2 statistic.\n",
    "# The argmax() function can be used to identify the location of the maximum point of a vector\n",
    "\n",
    "rsquared_adj = models_best.apply(lambda row: row[1].rsquared_adj, axis=1)\n",
    "\n",
    "plt.subplot(2, 2, 2)\n",
    "plt.plot(rsquared_adj)\n",
    "plt.plot(rsquared_adj.argmax(), rsquared_adj.max(), \"or\")\n",
    "plt.xlabel('# Predictors')\n",
    "plt.ylabel('adjusted rsquared')\n",
    "\n",
    "# We'll do the same for AIC and BIC, this time looking for the models with the SMALLEST statistic\n",
    "aic = models_best.apply(lambda row: row[1].aic, axis=1)\n",
    "\n",
    "plt.subplot(2, 2, 3)\n",
    "plt.plot(aic)\n",
    "plt.plot(aic.argmin(), aic.min(), \"or\")\n",
    "plt.xlabel('# Predictors')\n",
    "plt.ylabel('AIC')\n",
    "\n",
    "bic = models_best.apply(lambda row: row[1].bic, axis=1)\n",
    "\n",
    "plt.subplot(2, 2, 4)\n",
    "plt.plot(bic)\n",
    "plt.plot(bic.argmin(), bic.min(), \"or\")\n",
    "plt.xlabel('# Predictors')\n",
    "plt.ylabel('BIC')\n",
    "\n",
    "print(models_best.loc[models_best['AIC'].argmin()])"
   ]
  },
  {
   "cell_type": "markdown",
   "metadata": {},
   "source": [
    "### Model with lowest AIC value"
   ]
  },
  {
   "cell_type": "code",
   "execution_count": 232,
   "metadata": {},
   "outputs": [
    {
     "name": "stdout",
     "output_type": "stream",
     "text": [
      "                                 OLS Regression Results                                \n",
      "=======================================================================================\n",
      "Dep. Variable:                  value   R-squared (uncentered):                   1.000\n",
      "Model:                            OLS   Adj. R-squared (uncentered):              1.000\n",
      "Method:                 Least Squares   F-statistic:                          2.376e+36\n",
      "Date:                Tue, 04 May 2021   Prob (F-statistic):                        0.00\n",
      "Time:                        21:55:42   Log-Likelihood:                          59500.\n",
      "No. Observations:                1808   AIC:                                 -1.190e+05\n",
      "Df Residuals:                    1805   BIC:                                 -1.190e+05\n",
      "Df Model:                           3                                                  \n",
      "Covariance Type:            nonrobust                                                  \n",
      "==============================================================================\n",
      "                 coef    std err          t      P>|t|      [0.025      0.975]\n",
      "------------------------------------------------------------------------------\n",
      "upperLimit     1.0000   6.91e-19   1.45e+18      0.000       1.000       1.000\n",
      "upperError    -1.0000   1.17e-17  -8.55e+16      0.000      -1.000      -1.000\n",
      "lowerError   2.22e-16   1.01e-17     22.004      0.000    2.02e-16    2.42e-16\n",
      "==============================================================================\n",
      "Omnibus:                     2188.750   Durbin-Watson:                   1.918\n",
      "Prob(Omnibus):                  0.000   Jarque-Bera (JB):           189042.133\n",
      "Skew:                          -6.521   Prob(JB):                         0.00\n",
      "Kurtosis:                      51.367   Cond. No.                         42.7\n",
      "==============================================================================\n",
      "\n",
      "Notes:\n",
      "[1] R² is computed without centering (uncentered) since the model does not contain a constant.\n",
      "[2] Standard Errors assume that the covariance matrix of the errors is correctly specified.\n"
     ]
    }
   ],
   "source": [
    "print(models_best.loc[models_best['AIC'] == models_best['AIC'].min()][\"model\"].tolist()[0].summary())"
   ]
  },
  {
   "cell_type": "markdown",
   "metadata": {},
   "source": [
    "### Model with lowest BIC value"
   ]
  },
  {
   "cell_type": "code",
   "execution_count": 233,
   "metadata": {},
   "outputs": [
    {
     "name": "stdout",
     "output_type": "stream",
     "text": [
      "                                 OLS Regression Results                                \n",
      "=======================================================================================\n",
      "Dep. Variable:                  value   R-squared (uncentered):                   1.000\n",
      "Model:                            OLS   Adj. R-squared (uncentered):              1.000\n",
      "Method:                 Least Squares   F-statistic:                          2.376e+36\n",
      "Date:                Tue, 04 May 2021   Prob (F-statistic):                        0.00\n",
      "Time:                        21:55:49   Log-Likelihood:                          59500.\n",
      "No. Observations:                1808   AIC:                                 -1.190e+05\n",
      "Df Residuals:                    1805   BIC:                                 -1.190e+05\n",
      "Df Model:                           3                                                  \n",
      "Covariance Type:            nonrobust                                                  \n",
      "==============================================================================\n",
      "                 coef    std err          t      P>|t|      [0.025      0.975]\n",
      "------------------------------------------------------------------------------\n",
      "upperLimit     1.0000   6.91e-19   1.45e+18      0.000       1.000       1.000\n",
      "upperError    -1.0000   1.17e-17  -8.55e+16      0.000      -1.000      -1.000\n",
      "lowerError   2.22e-16   1.01e-17     22.004      0.000    2.02e-16    2.42e-16\n",
      "==============================================================================\n",
      "Omnibus:                     2188.750   Durbin-Watson:                   1.918\n",
      "Prob(Omnibus):                  0.000   Jarque-Bera (JB):           189042.133\n",
      "Skew:                          -6.521   Prob(JB):                         0.00\n",
      "Kurtosis:                      51.367   Cond. No.                         42.7\n",
      "==============================================================================\n",
      "\n",
      "Notes:\n",
      "[1] R² is computed without centering (uncentered) since the model does not contain a constant.\n",
      "[2] Standard Errors assume that the covariance matrix of the errors is correctly specified.\n"
     ]
    }
   ],
   "source": [
    "print(models_best.loc[models_best['BIC'] == models_best['BIC'].min()][\"model\"].tolist()[0].summary())"
   ]
  },
  {
   "cell_type": "markdown",
   "metadata": {},
   "source": [
    "### Model with lowest RSS value"
   ]
  },
  {
   "cell_type": "code",
   "execution_count": 178,
   "metadata": {},
   "outputs": [
    {
     "name": "stdout",
     "output_type": "stream",
     "text": [
      "                                 OLS Regression Results                                \n",
      "=======================================================================================\n",
      "Dep. Variable:                  value   R-squared (uncentered):                   1.000\n",
      "Model:                            OLS   Adj. R-squared (uncentered):              1.000\n",
      "Method:                 Least Squares   F-statistic:                          2.376e+36\n",
      "Date:                Tue, 04 May 2021   Prob (F-statistic):                        0.00\n",
      "Time:                        21:36:50   Log-Likelihood:                          59500.\n",
      "No. Observations:                1808   AIC:                                 -1.190e+05\n",
      "Df Residuals:                    1805   BIC:                                 -1.190e+05\n",
      "Df Model:                           3                                                  \n",
      "Covariance Type:            nonrobust                                                  \n",
      "==============================================================================\n",
      "                 coef    std err          t      P>|t|      [0.025      0.975]\n",
      "------------------------------------------------------------------------------\n",
      "upperLimit     1.0000   6.91e-19   1.45e+18      0.000       1.000       1.000\n",
      "upperError    -1.0000   1.17e-17  -8.55e+16      0.000      -1.000      -1.000\n",
      "lowerError   2.22e-16   1.01e-17     22.004      0.000    2.02e-16    2.42e-16\n",
      "==============================================================================\n",
      "Omnibus:                     2188.750   Durbin-Watson:                   1.918\n",
      "Prob(Omnibus):                  0.000   Jarque-Bera (JB):           189042.133\n",
      "Skew:                          -6.521   Prob(JB):                         0.00\n",
      "Kurtosis:                      51.367   Cond. No.                         42.7\n",
      "==============================================================================\n",
      "\n",
      "Notes:\n",
      "[1] R² is computed without centering (uncentered) since the model does not contain a constant.\n",
      "[2] Standard Errors assume that the covariance matrix of the errors is correctly specified.\n"
     ]
    }
   ],
   "source": [
    "print(models_best.loc[models_best['RSS'] == models_best['RSS'].min()][\"model\"].tolist()[0].summary())"
   ]
  },
  {
   "cell_type": "markdown",
   "metadata": {},
   "source": [
    "## Forward stepwise regression"
   ]
  },
  {
   "cell_type": "code",
   "execution_count": 237,
   "metadata": {},
   "outputs": [],
   "source": [
    "def forward(predictors):\n",
    "\n",
    "    # Pull out predictors we still need to process\n",
    "    remaining_predictors = [p for p in X.columns if p not in predictors]\n",
    "\n",
    "    results = []\n",
    "    \n",
    "    for p in remaining_predictors:\n",
    "        results.append(processSubset(predictors+[p]))\n",
    "    \n",
    "    # Wrap everything up in a nice dataframe\n",
    "    models = pd.DataFrame(results)\n",
    "    \n",
    "    # Choose the model with the highest RSS\n",
    "    df = models[models['AIC'] == models['AIC'].min()]\n",
    "\n",
    "    best_model = df.iloc[0]\n",
    "\n",
    "    print(\"Processed \", models.shape[0], \"models on\", len(predictors)+1, \"predictors\")\n",
    "    \n",
    "    # Return the best model, along with some other useful information about the model\n",
    "    return best_model"
   ]
  },
  {
   "cell_type": "code",
   "execution_count": 238,
   "metadata": {},
   "outputs": [
    {
     "name": "stdout",
     "output_type": "stream",
     "text": [
      "Processed  9 models on 1 predictors\n",
      "Processed  8 models on 2 predictors\n",
      "Processed  7 models on 3 predictors\n",
      "Processed  6 models on 4 predictors\n",
      "Processed  5 models on 5 predictors\n",
      "Processed  4 models on 6 predictors\n",
      "Processed  3 models on 7 predictors\n",
      "Processed  2 models on 8 predictors\n",
      "Processed  1 models on 9 predictors\n"
     ]
    }
   ],
   "source": [
    "models_fwd = pd.DataFrame(columns=[\"RSS\", \"model\", \"AIC\", \"BIC\", \"features\"])\n",
    "\n",
    "predictors = []\n",
    "\n",
    "for i in range(1,len(X.columns)+1):    \n",
    "    models_fwd.loc[i] = forward(predictors)\n",
    "    predictors = models_fwd.loc[i][\"model\"].model.exog_names\n"
   ]
  },
  {
   "cell_type": "code",
   "execution_count": 239,
   "metadata": {},
   "outputs": [
    {
     "name": "stdout",
     "output_type": "stream",
     "text": [
      "                                 OLS Regression Results                                \n",
      "=======================================================================================\n",
      "Dep. Variable:                  value   R-squared (uncentered):                   1.000\n",
      "Model:                            OLS   Adj. R-squared (uncentered):              1.000\n",
      "Method:                 Least Squares   F-statistic:                          2.376e+36\n",
      "Date:                Tue, 04 May 2021   Prob (F-statistic):                        0.00\n",
      "Time:                        22:05:16   Log-Likelihood:                          59500.\n",
      "No. Observations:                1808   AIC:                                 -1.190e+05\n",
      "Df Residuals:                    1805   BIC:                                 -1.190e+05\n",
      "Df Model:                           3                                                  \n",
      "Covariance Type:            nonrobust                                                  \n",
      "==============================================================================\n",
      "                 coef    std err          t      P>|t|      [0.025      0.975]\n",
      "------------------------------------------------------------------------------\n",
      "upperLimit     1.0000   6.91e-19   1.45e+18      0.000       1.000       1.000\n",
      "upperError    -1.0000   1.17e-17  -8.55e+16      0.000      -1.000      -1.000\n",
      "lowerError   2.22e-16   1.01e-17     22.004      0.000    2.02e-16    2.42e-16\n",
      "==============================================================================\n",
      "Omnibus:                     2188.750   Durbin-Watson:                   1.918\n",
      "Prob(Omnibus):                  0.000   Jarque-Bera (JB):           189042.133\n",
      "Skew:                          -6.521   Prob(JB):                         0.00\n",
      "Kurtosis:                      51.367   Cond. No.                         42.7\n",
      "==============================================================================\n",
      "\n",
      "Notes:\n",
      "[1] R² is computed without centering (uncentered) since the model does not contain a constant.\n",
      "[2] Standard Errors assume that the covariance matrix of the errors is correctly specified.\n"
     ]
    }
   ],
   "source": [
    "print(models_fwd.loc[models_fwd['AIC'] == models_fwd['AIC'].min()][\"model\"].tolist()[0].summary())"
   ]
  },
  {
   "cell_type": "code",
   "execution_count": 240,
   "metadata": {},
   "outputs": [
    {
     "name": "stdout",
     "output_type": "stream",
     "text": [
      "                                 OLS Regression Results                                \n",
      "=======================================================================================\n",
      "Dep. Variable:                  value   R-squared (uncentered):                   1.000\n",
      "Model:                            OLS   Adj. R-squared (uncentered):              1.000\n",
      "Method:                 Least Squares   F-statistic:                          2.376e+36\n",
      "Date:                Tue, 04 May 2021   Prob (F-statistic):                        0.00\n",
      "Time:                        22:05:38   Log-Likelihood:                          59500.\n",
      "No. Observations:                1808   AIC:                                 -1.190e+05\n",
      "Df Residuals:                    1805   BIC:                                 -1.190e+05\n",
      "Df Model:                           3                                                  \n",
      "Covariance Type:            nonrobust                                                  \n",
      "==============================================================================\n",
      "                 coef    std err          t      P>|t|      [0.025      0.975]\n",
      "------------------------------------------------------------------------------\n",
      "upperLimit     1.0000   6.91e-19   1.45e+18      0.000       1.000       1.000\n",
      "upperError    -1.0000   1.17e-17  -8.55e+16      0.000      -1.000      -1.000\n",
      "lowerError   2.22e-16   1.01e-17     22.004      0.000    2.02e-16    2.42e-16\n",
      "==============================================================================\n",
      "Omnibus:                     2188.750   Durbin-Watson:                   1.918\n",
      "Prob(Omnibus):                  0.000   Jarque-Bera (JB):           189042.133\n",
      "Skew:                          -6.521   Prob(JB):                         0.00\n",
      "Kurtosis:                      51.367   Cond. No.                         42.7\n",
      "==============================================================================\n",
      "\n",
      "Notes:\n",
      "[1] R² is computed without centering (uncentered) since the model does not contain a constant.\n",
      "[2] Standard Errors assume that the covariance matrix of the errors is correctly specified.\n"
     ]
    }
   ],
   "source": [
    "print(models_fwd.loc[models_fwd['BIC'] == models_fwd['BIC'].min()][\"model\"].tolist()[0].summary())"
   ]
  },
  {
   "cell_type": "code",
   "execution_count": 242,
   "metadata": {},
   "outputs": [
    {
     "name": "stdout",
     "output_type": "stream",
     "text": [
      "                                 OLS Regression Results                                \n",
      "=======================================================================================\n",
      "Dep. Variable:                  value   R-squared (uncentered):                   1.000\n",
      "Model:                            OLS   Adj. R-squared (uncentered):              1.000\n",
      "Method:                 Least Squares   F-statistic:                          2.376e+36\n",
      "Date:                Tue, 04 May 2021   Prob (F-statistic):                        0.00\n",
      "Time:                        22:06:00   Log-Likelihood:                          59500.\n",
      "No. Observations:                1808   AIC:                                 -1.190e+05\n",
      "Df Residuals:                    1805   BIC:                                 -1.190e+05\n",
      "Df Model:                           3                                                  \n",
      "Covariance Type:            nonrobust                                                  \n",
      "==============================================================================\n",
      "                 coef    std err          t      P>|t|      [0.025      0.975]\n",
      "------------------------------------------------------------------------------\n",
      "upperLimit     1.0000   6.91e-19   1.45e+18      0.000       1.000       1.000\n",
      "upperError    -1.0000   1.17e-17  -8.55e+16      0.000      -1.000      -1.000\n",
      "lowerError   2.22e-16   1.01e-17     22.004      0.000    2.02e-16    2.42e-16\n",
      "==============================================================================\n",
      "Omnibus:                     2188.750   Durbin-Watson:                   1.918\n",
      "Prob(Omnibus):                  0.000   Jarque-Bera (JB):           189042.133\n",
      "Skew:                          -6.521   Prob(JB):                         0.00\n",
      "Kurtosis:                      51.367   Cond. No.                         42.7\n",
      "==============================================================================\n",
      "\n",
      "Notes:\n",
      "[1] R² is computed without centering (uncentered) since the model does not contain a constant.\n",
      "[2] Standard Errors assume that the covariance matrix of the errors is correctly specified.\n"
     ]
    }
   ],
   "source": [
    "print(models_fwd.loc[models_fwd['RSS'] == models_fwd['RSS'].min()][\"model\"].tolist()[0].summary())"
   ]
  },
  {
   "cell_type": "markdown",
   "metadata": {},
   "source": [
    "### Backward Stepwise Regression"
   ]
  },
  {
   "cell_type": "code",
   "execution_count": 246,
   "metadata": {},
   "outputs": [],
   "source": [
    "def backward(predictors):\n",
    "\n",
    "    results = []\n",
    "    \n",
    "    for combo in itertools.combinations(predictors, len(predictors)-1):\n",
    "        results.append(processSubset(combo))\n",
    "    \n",
    "    # Wrap everything up in a nice dataframe\n",
    "    models = pd.DataFrame(results)\n",
    "    \n",
    "    # Choose the model with the highest RSS\n",
    "    df = models[models['AIC'] == models['AIC'].min()]\n",
    "\n",
    "    best_model = df.iloc[0]\n",
    "    \n",
    "    print(\"Processed \", models.shape[0], \"models on\", len(predictors)-1, \"predictors\")\n",
    "    \n",
    "    # Return the best model, along with some other useful information about the model\n",
    "    return best_model"
   ]
  },
  {
   "cell_type": "code",
   "execution_count": 250,
   "metadata": {},
   "outputs": [
    {
     "name": "stdout",
     "output_type": "stream",
     "text": [
      "Processed  9 models on 8 predictors\n",
      "Processed  8 models on 7 predictors\n",
      "Processed  7 models on 6 predictors\n",
      "Processed  6 models on 5 predictors\n",
      "Processed  5 models on 4 predictors\n",
      "Processed  4 models on 3 predictors\n",
      "Processed  3 models on 2 predictors\n",
      "Processed  2 models on 1 predictors\n"
     ]
    }
   ],
   "source": [
    "models_bwd = pd.DataFrame(columns=[\"RSS\", \"model\", \"AIC\", \"BIC\", \"features\"], index = range(1,len(X.columns)))\n",
    "\n",
    "predictors = X.columns\n",
    "\n",
    "while(len(predictors) > 1):  \n",
    "    models_bwd.loc[len(predictors)-1] = backward(predictors)\n",
    "    predictors = models_bwd.loc[len(predictors)-1][\"model\"].model.exog_names\n"
   ]
  },
  {
   "cell_type": "code",
   "execution_count": 251,
   "metadata": {},
   "outputs": [
    {
     "name": "stdout",
     "output_type": "stream",
     "text": [
      "                                 OLS Regression Results                                \n",
      "=======================================================================================\n",
      "Dep. Variable:                  value   R-squared (uncentered):                   1.000\n",
      "Model:                            OLS   Adj. R-squared (uncentered):              1.000\n",
      "Method:                 Least Squares   F-statistic:                          4.187e+35\n",
      "Date:                Tue, 04 May 2021   Prob (F-statistic):                        0.00\n",
      "Time:                        22:09:09   Log-Likelihood:                          57930.\n",
      "No. Observations:                1808   AIC:                                 -1.159e+05\n",
      "Df Residuals:                    1805   BIC:                                 -1.158e+05\n",
      "Df Model:                           3                                                  \n",
      "Covariance Type:            nonrobust                                                  \n",
      "==============================================================================\n",
      "                 coef    std err          t      P>|t|      [0.025      0.975]\n",
      "------------------------------------------------------------------------------\n",
      "year        4.337e-18    1.9e-19     22.838      0.000    3.96e-18    4.71e-18\n",
      "upperLimit     1.0000   3.85e-18    2.6e+17      0.000       1.000       1.000\n",
      "upperError    -1.0000   1.98e-17  -5.04e+16      0.000      -1.000      -1.000\n",
      "==============================================================================\n",
      "Omnibus:                      927.570   Durbin-Watson:                   1.775\n",
      "Prob(Omnibus):                  0.000   Jarque-Bera (JB):             4154.124\n",
      "Skew:                          -2.581   Prob(JB):                         0.00\n",
      "Kurtosis:                       8.338   Cond. No.                         577.\n",
      "==============================================================================\n",
      "\n",
      "Notes:\n",
      "[1] R² is computed without centering (uncentered) since the model does not contain a constant.\n",
      "[2] Standard Errors assume that the covariance matrix of the errors is correctly specified.\n"
     ]
    }
   ],
   "source": [
    "print(models_bwd.loc[models_bwd['AIC'] == models_bwd['AIC'].min()][\"model\"].tolist()[0].summary())"
   ]
  },
  {
   "cell_type": "code",
   "execution_count": 252,
   "metadata": {},
   "outputs": [
    {
     "name": "stdout",
     "output_type": "stream",
     "text": [
      "                                 OLS Regression Results                                \n",
      "=======================================================================================\n",
      "Dep. Variable:                  value   R-squared (uncentered):                   1.000\n",
      "Model:                            OLS   Adj. R-squared (uncentered):              1.000\n",
      "Method:                 Least Squares   F-statistic:                          4.187e+35\n",
      "Date:                Tue, 04 May 2021   Prob (F-statistic):                        0.00\n",
      "Time:                        22:09:21   Log-Likelihood:                          57930.\n",
      "No. Observations:                1808   AIC:                                 -1.159e+05\n",
      "Df Residuals:                    1805   BIC:                                 -1.158e+05\n",
      "Df Model:                           3                                                  \n",
      "Covariance Type:            nonrobust                                                  \n",
      "==============================================================================\n",
      "                 coef    std err          t      P>|t|      [0.025      0.975]\n",
      "------------------------------------------------------------------------------\n",
      "year        4.337e-18    1.9e-19     22.838      0.000    3.96e-18    4.71e-18\n",
      "upperLimit     1.0000   3.85e-18    2.6e+17      0.000       1.000       1.000\n",
      "upperError    -1.0000   1.98e-17  -5.04e+16      0.000      -1.000      -1.000\n",
      "==============================================================================\n",
      "Omnibus:                      927.570   Durbin-Watson:                   1.775\n",
      "Prob(Omnibus):                  0.000   Jarque-Bera (JB):             4154.124\n",
      "Skew:                          -2.581   Prob(JB):                         0.00\n",
      "Kurtosis:                       8.338   Cond. No.                         577.\n",
      "==============================================================================\n",
      "\n",
      "Notes:\n",
      "[1] R² is computed without centering (uncentered) since the model does not contain a constant.\n",
      "[2] Standard Errors assume that the covariance matrix of the errors is correctly specified.\n"
     ]
    }
   ],
   "source": [
    "print(models_bwd.loc[models_bwd['BIC'] == models_bwd['BIC'].min()][\"model\"].tolist()[0].summary())"
   ]
  },
  {
   "cell_type": "code",
   "execution_count": 253,
   "metadata": {},
   "outputs": [
    {
     "name": "stdout",
     "output_type": "stream",
     "text": [
      "                                 OLS Regression Results                                \n",
      "=======================================================================================\n",
      "Dep. Variable:                  value   R-squared (uncentered):                   1.000\n",
      "Model:                            OLS   Adj. R-squared (uncentered):              1.000\n",
      "Method:                 Least Squares   F-statistic:                          4.187e+35\n",
      "Date:                Tue, 04 May 2021   Prob (F-statistic):                        0.00\n",
      "Time:                        22:09:52   Log-Likelihood:                          57930.\n",
      "No. Observations:                1808   AIC:                                 -1.159e+05\n",
      "Df Residuals:                    1805   BIC:                                 -1.158e+05\n",
      "Df Model:                           3                                                  \n",
      "Covariance Type:            nonrobust                                                  \n",
      "==============================================================================\n",
      "                 coef    std err          t      P>|t|      [0.025      0.975]\n",
      "------------------------------------------------------------------------------\n",
      "year        4.337e-18    1.9e-19     22.838      0.000    3.96e-18    4.71e-18\n",
      "upperLimit     1.0000   3.85e-18    2.6e+17      0.000       1.000       1.000\n",
      "upperError    -1.0000   1.98e-17  -5.04e+16      0.000      -1.000      -1.000\n",
      "==============================================================================\n",
      "Omnibus:                      927.570   Durbin-Watson:                   1.775\n",
      "Prob(Omnibus):                  0.000   Jarque-Bera (JB):             4154.124\n",
      "Skew:                          -2.581   Prob(JB):                         0.00\n",
      "Kurtosis:                       8.338   Cond. No.                         577.\n",
      "==============================================================================\n",
      "\n",
      "Notes:\n",
      "[1] R² is computed without centering (uncentered) since the model does not contain a constant.\n",
      "[2] Standard Errors assume that the covariance matrix of the errors is correctly specified.\n"
     ]
    }
   ],
   "source": [
    "print(models_bwd.loc[models_bwd['RSS'] == models_bwd['RSS'].min()][\"model\"].tolist()[0].summary())"
   ]
  },
  {
   "cell_type": "markdown",
   "metadata": {},
   "source": [
    "### The features giving lowest AIC, BIC and RSS values Backward regression are upperLimit, upperError and year and the features giving lowest AIC, BIC and RSS values for best subset selection and Forward are upperLimit, upperError and lowerError"
   ]
  },
  {
   "cell_type": "markdown",
   "metadata": {},
   "source": [
    "#### Fitting a model with all these features"
   ]
  },
  {
   "cell_type": "code",
   "execution_count": 254,
   "metadata": {},
   "outputs": [],
   "source": [
    "X = data[[\"year\", \"lowerError\", \"upperLimit\", \"upperError\"]]"
   ]
  },
  {
   "cell_type": "code",
   "execution_count": 255,
   "metadata": {},
   "outputs": [],
   "source": [
    "X_train, X_test , y_train, y_test = train_test_split(X, y, test_size=0.3, random_state=1)"
   ]
  },
  {
   "cell_type": "code",
   "execution_count": 256,
   "metadata": {},
   "outputs": [],
   "source": [
    "model = sm.OLS(y_train, X_train).fit()\n",
    "y_pred = model.predict(X_test)"
   ]
  },
  {
   "cell_type": "code",
   "execution_count": 257,
   "metadata": {},
   "outputs": [
    {
     "name": "stdout",
     "output_type": "stream",
     "text": [
      "MSE 3.420605485379331e-28\n"
     ]
    }
   ],
   "source": [
    "print(\"MSE\", mean_squared_error(y_test, y_pred))  "
   ]
  },
  {
   "cell_type": "code",
   "execution_count": 259,
   "metadata": {},
   "outputs": [
    {
     "name": "stdout",
     "output_type": "stream",
     "text": [
      "                                 OLS Regression Results                                \n",
      "=======================================================================================\n",
      "Dep. Variable:                  value   R-squared (uncentered):                   1.000\n",
      "Model:                            OLS   Adj. R-squared (uncentered):              1.000\n",
      "Method:                 Least Squares   F-statistic:                          5.504e+33\n",
      "Date:                Tue, 04 May 2021   Prob (F-statistic):                        0.00\n",
      "Time:                        22:11:50   Log-Likelihood:                          38200.\n",
      "No. Observations:                1265   AIC:                                 -7.639e+04\n",
      "Df Residuals:                    1261   BIC:                                 -7.637e+04\n",
      "Df Model:                           4                                                  \n",
      "Covariance Type:            nonrobust                                                  \n",
      "==============================================================================\n",
      "                 coef    std err          t      P>|t|      [0.025      0.975]\n",
      "------------------------------------------------------------------------------\n",
      "year        4.337e-18   1.65e-18      2.623      0.009    1.09e-18    7.58e-18\n",
      "lowerError  9.992e-16   2.19e-16      4.568      0.000     5.7e-16    1.43e-15\n",
      "upperLimit     1.0000   3.77e-17   2.65e+16      0.000       1.000       1.000\n",
      "upperError    -1.0000   3.03e-16   -3.3e+15      0.000      -1.000      -1.000\n",
      "==============================================================================\n",
      "Omnibus:                      282.472   Durbin-Watson:                   0.217\n",
      "Prob(Omnibus):                  0.000   Jarque-Bera (JB):              495.521\n",
      "Skew:                          -1.477   Prob(JB):                    2.51e-108\n",
      "Kurtosis:                       3.823   Cond. No.                     1.40e+03\n",
      "==============================================================================\n",
      "\n",
      "Notes:\n",
      "[1] R² is computed without centering (uncentered) since the model does not contain a constant.\n",
      "[2] Standard Errors assume that the covariance matrix of the errors is correctly specified.\n",
      "[3] The condition number is large, 1.4e+03. This might indicate that there are\n",
      "strong multicollinearity or other numerical problems.\n"
     ]
    }
   ],
   "source": [
    "print(model.summary())"
   ]
  },
  {
   "cell_type": "code",
   "execution_count": null,
   "metadata": {},
   "outputs": [],
   "source": []
  }
 ],
 "metadata": {
  "kernelspec": {
   "display_name": "Python 3",
   "language": "python",
   "name": "python3"
  },
  "language_info": {
   "codemirror_mode": {
    "name": "ipython",
    "version": 3
   },
   "file_extension": ".py",
   "mimetype": "text/x-python",
   "name": "python",
   "nbconvert_exporter": "python",
   "pygments_lexer": "ipython3",
   "version": "3.8.5"
  }
 },
 "nbformat": 4,
 "nbformat_minor": 4
}
