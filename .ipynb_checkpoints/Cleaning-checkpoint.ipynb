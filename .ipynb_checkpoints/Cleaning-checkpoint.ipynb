{
 "cells": [
  {
   "cell_type": "code",
   "execution_count": 5,
   "metadata": {},
   "outputs": [],
   "source": [
    "import requests\n",
    "import pandas as pd\n",
    "from matplotlib import pyplot as plt\n",
    "from scipy.stats import gamma\n",
    "import numpy as np\n",
    "from pandas.api.types import is_numeric_dtype\n",
    "import dataframe_image as dfi"
   ]
  },
  {
   "cell_type": "code",
   "execution_count": 6,
   "metadata": {},
   "outputs": [],
   "source": [
    "import seaborn as sns\n",
    "\n",
    "import matplotlib.pyplot as plt\n",
    "import matplotlib.mlab as mlab\n",
    "import matplotlib\n",
    "plt.style.use('ggplot')\n",
    "from matplotlib.pyplot import figure\n",
    "\n",
    "%matplotlib inline\n",
    "matplotlib.rcParams['figure.figsize'] = (12,8)"
   ]
  },
  {
   "cell_type": "code",
   "execution_count": 9,
   "metadata": {},
   "outputs": [
    {
     "name": "stdout",
     "output_type": "stream",
     "text": [
      "\u001b[31mERROR: Could not find a version that satisfies the requirement c3api (from versions: none)\u001b[0m\r\n",
      "\u001b[31mERROR: No matching distribution found for c3api\u001b[0m\r\n"
     ]
    }
   ],
   "source": [
    "!pip install c3api"
   ]
  },
  {
   "cell_type": "code",
   "execution_count": 8,
   "metadata": {},
   "outputs": [
    {
     "ename": "ModuleNotFoundError",
     "evalue": "No module named 'c3api'",
     "output_type": "error",
     "traceback": [
      "\u001b[0;31m---------------------------------------------------------------------------\u001b[0m",
      "\u001b[0;31mModuleNotFoundError\u001b[0m                       Traceback (most recent call last)",
      "\u001b[0;32m<ipython-input-8-a37603c9dde8>\u001b[0m in \u001b[0;36m<module>\u001b[0;34m\u001b[0m\n\u001b[0;32m----> 1\u001b[0;31m \u001b[0;32mfrom\u001b[0m \u001b[0mc3api\u001b[0m \u001b[0;32mimport\u001b[0m \u001b[0mc3aidatalake\u001b[0m\u001b[0;34m\u001b[0m\u001b[0;34m\u001b[0m\u001b[0m\n\u001b[0m",
      "\u001b[0;31mModuleNotFoundError\u001b[0m: No module named 'c3api'"
     ]
    }
   ],
   "source": [
    "from c3api import c3aidatalake"
   ]
  },
  {
   "cell_type": "markdown",
   "metadata": {},
   "source": [
    "## Access VaccineCoverage data\n",
    "\n",
    "`VaccineCoverage` stores historical vaccination rates for various demographic groups in US counties and states, based on data from the US Centers for Disease Control (CDC)."
   ]
  },
  {
   "cell_type": "markdown",
   "metadata": {},
   "source": [
    "### Get the data for vaccine coverage"
   ]
  },
  {
   "cell_type": "code",
   "execution_count": 194,
   "metadata": {},
   "outputs": [],
   "source": [
    "vaccine_coverage = c3aidatalake.fetch(\n",
    "  \"vaccinecoverage\",\n",
    "  {\n",
    "      \"spec\" : {}\n",
    "  }\n",
    ")\n"
   ]
  },
  {
   "cell_type": "code",
   "execution_count": 195,
   "metadata": {},
   "outputs": [
    {
     "name": "stdout",
     "output_type": "stream",
     "text": [
      "Total data points  (2000, 20)\n"
     ]
    }
   ],
   "source": [
    "print(\"Total data points \", vaccine_coverage.shape)"
   ]
  },
  {
   "cell_type": "code",
   "execution_count": 196,
   "metadata": {
    "scrolled": true
   },
   "outputs": [
    {
     "data": {
      "text/html": [
       "<div>\n",
       "<style scoped>\n",
       "    .dataframe tbody tr th:only-of-type {\n",
       "        vertical-align: middle;\n",
       "    }\n",
       "\n",
       "    .dataframe tbody tr th {\n",
       "        vertical-align: top;\n",
       "    }\n",
       "\n",
       "    .dataframe thead th {\n",
       "        text-align: right;\n",
       "    }\n",
       "</style>\n",
       "<table border=\"1\" class=\"dataframe\">\n",
       "  <thead>\n",
       "    <tr style=\"text-align: right;\">\n",
       "      <th></th>\n",
       "      <th>vaxView</th>\n",
       "      <th>year</th>\n",
       "      <th>timestamp</th>\n",
       "      <th>value</th>\n",
       "      <th>lowerLimit</th>\n",
       "      <th>upperLimit</th>\n",
       "      <th>sampleSize</th>\n",
       "      <th>confidenceInterval</th>\n",
       "      <th>vaccineDetails</th>\n",
       "      <th>demographicClass</th>\n",
       "      <th>demographicClassDetails</th>\n",
       "      <th>id</th>\n",
       "      <th>location.id</th>\n",
       "      <th>target</th>\n",
       "      <th>totalPopulation</th>\n",
       "      <th>surveyType</th>\n",
       "      <th>other</th>\n",
       "      <th>difference</th>\n",
       "      <th>kindergartenPopulation</th>\n",
       "      <th>percentSurveyed</th>\n",
       "    </tr>\n",
       "  </thead>\n",
       "  <tbody>\n",
       "    <tr>\n",
       "      <th>0</th>\n",
       "      <td>Child</td>\n",
       "      <td>2001</td>\n",
       "      <td>2001-01-01T00:00:00Z</td>\n",
       "      <td>92.2</td>\n",
       "      <td>89.1</td>\n",
       "      <td>94.4</td>\n",
       "      <td>562.0</td>\n",
       "      <td>2.7</td>\n",
       "      <td>&gt;=3 doses Hib Vaccination</td>\n",
       "      <td>Age</td>\n",
       "      <td>24 Months</td>\n",
       "      <td>00000cba-509c-4504-b1f7-ccd44cfe6b42</td>\n",
       "      <td>Indiana_UnitedStates</td>\n",
       "      <td>NaN</td>\n",
       "      <td>NaN</td>\n",
       "      <td>NaN</td>\n",
       "      <td>NaN</td>\n",
       "      <td>NaN</td>\n",
       "      <td>NaN</td>\n",
       "      <td>NaN</td>\n",
       "    </tr>\n",
       "  </tbody>\n",
       "</table>\n",
       "</div>"
      ],
      "text/plain": [
       "  vaxView  year             timestamp  value  lowerLimit  upperLimit  \\\n",
       "0   Child  2001  2001-01-01T00:00:00Z   92.2        89.1        94.4   \n",
       "\n",
       "   sampleSize  confidenceInterval              vaccineDetails  \\\n",
       "0       562.0                 2.7  >=3 doses Hib Vaccination    \n",
       "\n",
       "  demographicClass demographicClassDetails  \\\n",
       "0              Age               24 Months   \n",
       "\n",
       "                                     id           location.id  target  \\\n",
       "0  00000cba-509c-4504-b1f7-ccd44cfe6b42  Indiana_UnitedStates     NaN   \n",
       "\n",
       "   totalPopulation surveyType other  difference  kindergartenPopulation  \\\n",
       "0              NaN        NaN   NaN         NaN                     NaN   \n",
       "\n",
       "   percentSurveyed  \n",
       "0              NaN  "
      ]
     },
     "execution_count": 196,
     "metadata": {},
     "output_type": "execute_result"
    }
   ],
   "source": [
    "vaccine_coverage.head(1)"
   ]
  },
  {
   "cell_type": "markdown",
   "metadata": {},
   "source": [
    "#### Remove unrelated columns"
   ]
  },
  {
   "cell_type": "code",
   "execution_count": 197,
   "metadata": {},
   "outputs": [
    {
     "data": {
      "text/plain": [
       "Index(['vaxView', 'year', 'timestamp', 'value', 'lowerLimit', 'upperLimit',\n",
       "       'sampleSize', 'confidenceInterval', 'vaccineDetails',\n",
       "       'demographicClass', 'demographicClassDetails', 'id', 'location.id',\n",
       "       'target', 'totalPopulation', 'surveyType', 'other', 'difference',\n",
       "       'kindergartenPopulation', 'percentSurveyed'],\n",
       "      dtype='object')"
      ]
     },
     "execution_count": 197,
     "metadata": {},
     "output_type": "execute_result"
    }
   ],
   "source": [
    "vaccine_coverage.columns"
   ]
  },
  {
   "cell_type": "code",
   "execution_count": 198,
   "metadata": {},
   "outputs": [],
   "source": [
    "unrelated_columns = ['timestamp', 'vaccineDetails', 'demographicClassDetails', 'difference', 'kindergartenPopulation',\n",
    "                    'other']\n",
    "vaccine_coverage.drop(unrelated_columns, axis=1, inplace=True)"
   ]
  },
  {
   "cell_type": "markdown",
   "metadata": {},
   "source": [
    "#### Drop missing values"
   ]
  },
  {
   "cell_type": "markdown",
   "metadata": {},
   "source": [
    "#### Missing percents"
   ]
  },
  {
   "cell_type": "code",
   "execution_count": 199,
   "metadata": {},
   "outputs": [
    {
     "name": "stdout",
     "output_type": "stream",
     "text": [
      "value - 4%\n",
      "lowerLimit - 9%\n",
      "upperLimit - 8%\n",
      "sampleSize - 4%\n",
      "confidenceInterval - 9%\n",
      "target - 91%\n",
      "totalPopulation - 100%\n",
      "surveyType - 100%\n",
      "percentSurveyed - 100%\n"
     ]
    }
   ],
   "source": [
    "missing_values_percent = {}\n",
    "drop_cols = []\n",
    "\n",
    "for col in vaccine_coverage.columns:\n",
    "    pct_missing = np.mean(vaccine_coverage[col].isnull())\n",
    "    if pct_missing > 0:\n",
    "        if pct_missing > 0.9:\n",
    "            drop_cols.append(col)\n",
    "        missing_values_percent[col] = round(pct_missing * 100, 0)\n",
    "        print('{} - {}%'.format(col, round(pct_missing*100)))"
   ]
  },
  {
   "cell_type": "code",
   "execution_count": 200,
   "metadata": {},
   "outputs": [
    {
     "data": {
      "image/png": "[encoded data removed]",
      "text/plain": [
       "<Figure size 720x360 with 1 Axes>"
      ]
     },
     "metadata": {
      "needs_background": "light"
     },
     "output_type": "display_data"
    }
   ],
   "source": [
    "percentages = missing_values_percent.values()\n",
    "ind = list(missing_values_percent.keys())\n",
    "\n",
    "\n",
    "fig, ax = plt.subplots(figsize = (10,5))\n",
    "ax.bar(ind, percentages, width=0.6, color='#0096FF')\n",
    "\n",
    "for index,data in enumerate(percentages):\n",
    "    plt.text(x=index , y =data+1 , s=f\"{data}%\" , fontdict=dict(fontsize=10), ha='center')\n",
    "    \n",
    "plt.xticks(rotation=45)\n",
    "plt.show()"
   ]
  },
  {
   "cell_type": "code",
   "execution_count": 201,
   "metadata": {},
   "outputs": [
    {
     "data": {
      "text/plain": [
       "Index(['vaxView', 'year', 'value', 'lowerLimit', 'upperLimit', 'sampleSize',\n",
       "       'confidenceInterval', 'demographicClass', 'id', 'location.id'],\n",
       "      dtype='object')"
      ]
     },
     "execution_count": 201,
     "metadata": {},
     "output_type": "execute_result"
    }
   ],
   "source": [
    "vaccine_coverage.drop(drop_cols, axis=1, inplace=True)\n",
    "vaccine_coverage.columns"
   ]
  },
  {
   "cell_type": "code",
   "execution_count": 202,
   "metadata": {},
   "outputs": [
    {
     "data": {
      "text/plain": [
       "(1808, 10)"
      ]
     },
     "execution_count": 202,
     "metadata": {},
     "output_type": "execute_result"
    }
   ],
   "source": [
    "vaccine_coverage.dropna(inplace=True)\n",
    "vaccine_coverage.shape"
   ]
  },
  {
   "cell_type": "markdown",
   "metadata": {},
   "source": [
    "### Detecting Outliers"
   ]
  },
  {
   "cell_type": "code",
   "execution_count": 203,
   "metadata": {},
   "outputs": [
    {
     "name": "stdout",
     "output_type": "stream",
     "text": [
      "Requirement already satisfied: tabulate in /Users/kausar/opt/anaconda3/lib/python3.8/site-packages (0.8.9)\r\n"
     ]
    }
   ],
   "source": [
    "!pip install tabulate"
   ]
  },
  {
   "cell_type": "code",
   "execution_count": 204,
   "metadata": {},
   "outputs": [],
   "source": [
    "df = vaccine_coverage.describe().style.background_gradient()\n",
    "dfi.export(df,\"mytable.png\")"
   ]
  },
  {
   "cell_type": "code",
   "execution_count": 205,
   "metadata": {},
   "outputs": [
    {
     "name": "stderr",
     "output_type": "stream",
     "text": [
      "/Users/kausar/opt/anaconda3/lib/python3.8/site-packages/IPython/core/interactiveshell.py:3418: FutureWarning: This dataframe has a column name that matches the 'value_name' column name of the resultiing Dataframe. In the future this will raise an error, please set the 'value_name' parameter of DataFrame.melt to a unique name.\n",
      "  exec(code_obj, self.user_global_ns, self.user_ns)\n"
     ]
    },
    {
     "data": {
      "image/png": "[encoded data removed]",
      "text/plain": [
       "<Figure size 864x576 with 1 Axes>"
      ]
     },
     "metadata": {
      "needs_background": "light"
     },
     "output_type": "display_data"
    }
   ],
   "source": [
    "df_numeric = vaccine_coverage[['value', 'lowerLimit', 'upperLimit', 'confidenceInterval', ]]\n",
    "sns.boxplot(x=\"variable\", y=\"value\", data=pd.melt(df_numeric))\n",
    "\n",
    "plt.show()"
   ]
  },
  {
   "cell_type": "code",
   "execution_count": 206,
   "metadata": {},
   "outputs": [
    {
     "data": {
      "text/plain": [
       "<AxesSubplot:>"
      ]
     },
     "execution_count": 206,
     "metadata": {},
     "output_type": "execute_result"
    },
    {
     "data": {
      "image/png": "[encoded data removed]",
      "text/plain": [
       "<Figure size 864x576 with 1 Axes>"
      ]
     },
     "metadata": {
      "needs_background": "light"
     },
     "output_type": "display_data"
    }
   ],
   "source": [
    "df_ss = vaccine_coverage[['sampleSize']]\n",
    "df_ss.boxplot()"
   ]
  },
  {
   "cell_type": "markdown",
   "metadata": {},
   "source": [
    "### Vaccine coverage by ethicity and location"
   ]
  },
  {
   "cell_type": "code",
   "execution_count": 207,
   "metadata": {},
   "outputs": [
    {
     "data": {
      "image/png": "[encoded data removed]",
      "text/plain": [
       "<Figure size 720x432 with 2 Axes>"
      ]
     },
     "metadata": {
      "needs_background": "light"
     },
     "output_type": "display_data"
    }
   ],
   "source": [
    "vaccine_coverage[\"upperError\"] = vaccine_coverage[\"upperLimit\"] - vaccine_coverage[\"value\"]\n",
    "vaccine_coverage[\"lowerError\"] = vaccine_coverage[\"value\"] - vaccine_coverage[\"lowerLimit\"]\n",
    "\n",
    "plt.figure(figsize = (10, 6))\n",
    "\n",
    "plt.subplot(1, 2, 1)\n",
    "plt.bar(\n",
    "    vaccine_coverage.loc[vaccine_coverage[\"location.id\"] == \"California_UnitedStates\", \"demographicClass\"], \n",
    "    vaccine_coverage.loc[vaccine_coverage[\"location.id\"] == \"California_UnitedStates\", \"value\"], \n",
    "    yerr = [\n",
    "        vaccine_coverage.loc[vaccine_coverage[\"location.id\"] == \"California_UnitedStates\", \"upperError\"], \n",
    "        vaccine_coverage.loc[vaccine_coverage[\"location.id\"] == \"California_UnitedStates\", \"lowerError\"], \n",
    "    ]\n",
    ")\n",
    "plt.ylabel(\"Vaccination rate (%)\")\n",
    "plt.xticks(rotation = 45, ha = \"right\")\n",
    "plt.title(\"California, United States\")\n",
    "\n",
    "plt.subplot(1, 2, 2)\n",
    "plt.bar(\n",
    "    vaccine_coverage.loc[vaccine_coverage[\"location.id\"] == \"Texas_UnitedStates\", \"demographicClass\"], \n",
    "    vaccine_coverage.loc[vaccine_coverage[\"location.id\"] == \"Texas_UnitedStates\", \"value\"], \n",
    "    yerr = [\n",
    "        vaccine_coverage.loc[vaccine_coverage[\"location.id\"] == \"Texas_UnitedStates\", \"upperError\"], \n",
    "        vaccine_coverage.loc[vaccine_coverage[\"location.id\"] == \"Texas_UnitedStates\", \"lowerError\"], \n",
    "    ]\n",
    ")\n",
    "plt.ylabel(\"Vaccination rate (%)\")\n",
    "plt.xticks(rotation = 45, ha = \"right\")\n",
    "plt.title(\"Texas, United States\")\n",
    "\n",
    "plt.show()"
   ]
  },
  {
   "cell_type": "markdown",
   "metadata": {},
   "source": [
    "## Categorical Variables"
   ]
  },
  {
   "cell_type": "markdown",
   "metadata": {},
   "source": [
    "### We can remove the id column"
   ]
  },
  {
   "cell_type": "code",
   "execution_count": 208,
   "metadata": {},
   "outputs": [],
   "source": [
    "vaccine_coverage.drop(['id'], axis=1, inplace=True)"
   ]
  },
  {
   "cell_type": "code",
   "execution_count": 209,
   "metadata": {},
   "outputs": [
    {
     "data": {
      "text/plain": [
       "['vaxView', 'demographicClass', 'location.id']"
      ]
     },
     "execution_count": 209,
     "metadata": {},
     "output_type": "execute_result"
    }
   ],
   "source": [
    "cat_features= [i for i in vaccine_coverage.columns if vaccine_coverage.dtypes[i]=='object']\n",
    "cat_features"
   ]
  },
  {
   "cell_type": "code",
   "execution_count": 210,
   "metadata": {},
   "outputs": [
    {
     "data": {
      "text/html": [
       "<div>\n",
       "<style scoped>\n",
       "    .dataframe tbody tr th:only-of-type {\n",
       "        vertical-align: middle;\n",
       "    }\n",
       "\n",
       "    .dataframe tbody tr th {\n",
       "        vertical-align: top;\n",
       "    }\n",
       "\n",
       "    .dataframe thead th {\n",
       "        text-align: right;\n",
       "    }\n",
       "</style>\n",
       "<table border=\"1\" class=\"dataframe\">\n",
       "  <thead>\n",
       "    <tr style=\"text-align: right;\">\n",
       "      <th></th>\n",
       "      <th>vaxView</th>\n",
       "      <th>demographicClass</th>\n",
       "      <th>location.id</th>\n",
       "    </tr>\n",
       "  </thead>\n",
       "  <tbody>\n",
       "    <tr>\n",
       "      <th>0</th>\n",
       "      <td>Child</td>\n",
       "      <td>Age</td>\n",
       "      <td>Indiana_UnitedStates</td>\n",
       "    </tr>\n",
       "    <tr>\n",
       "      <th>1</th>\n",
       "      <td>Child</td>\n",
       "      <td>Facility Type</td>\n",
       "      <td>NewMexico_UnitedStates</td>\n",
       "    </tr>\n",
       "    <tr>\n",
       "      <th>2</th>\n",
       "      <td>Child</td>\n",
       "      <td>Age</td>\n",
       "      <td>NewJersey_UnitedStates</td>\n",
       "    </tr>\n",
       "    <tr>\n",
       "      <th>3</th>\n",
       "      <td>Child</td>\n",
       "      <td>Poverty</td>\n",
       "      <td>UnitedStates</td>\n",
       "    </tr>\n",
       "    <tr>\n",
       "      <th>4</th>\n",
       "      <td>Influenza</td>\n",
       "      <td>Age</td>\n",
       "      <td>Kentucky_UnitedStates</td>\n",
       "    </tr>\n",
       "  </tbody>\n",
       "</table>\n",
       "</div>"
      ],
      "text/plain": [
       "     vaxView demographicClass             location.id\n",
       "0      Child              Age    Indiana_UnitedStates\n",
       "1      Child    Facility Type  NewMexico_UnitedStates\n",
       "2      Child              Age  NewJersey_UnitedStates\n",
       "3      Child          Poverty            UnitedStates\n",
       "4  Influenza              Age   Kentucky_UnitedStates"
      ]
     },
     "execution_count": 210,
     "metadata": {},
     "output_type": "execute_result"
    }
   ],
   "source": [
    "cat_data = vaccine_coverage[cat_features]\n",
    "cat_data.head()"
   ]
  },
  {
   "cell_type": "code",
   "execution_count": 211,
   "metadata": {},
   "outputs": [
    {
     "data": {
      "text/plain": [
       "array(['Child', 'Influenza', 'Teenager', 'Adult'], dtype=object)"
      ]
     },
     "execution_count": 211,
     "metadata": {},
     "output_type": "execute_result"
    }
   ],
   "source": [
    "vaccine_coverage['vaxView'].unique()"
   ]
  },
  {
   "cell_type": "code",
   "execution_count": 212,
   "metadata": {},
   "outputs": [],
   "source": [
    "cleanup_vv = { \"vaxView\": { \"Child\": 0, \"Influenza\": 1, \"Teenager\": 2, \"Adult\": 3 } }"
   ]
  },
  {
   "cell_type": "code",
   "execution_count": 213,
   "metadata": {},
   "outputs": [
    {
     "data": {
      "text/html": [
       "<div>\n",
       "<style scoped>\n",
       "    .dataframe tbody tr th:only-of-type {\n",
       "        vertical-align: middle;\n",
       "    }\n",
       "\n",
       "    .dataframe tbody tr th {\n",
       "        vertical-align: top;\n",
       "    }\n",
       "\n",
       "    .dataframe thead th {\n",
       "        text-align: right;\n",
       "    }\n",
       "</style>\n",
       "<table border=\"1\" class=\"dataframe\">\n",
       "  <thead>\n",
       "    <tr style=\"text-align: right;\">\n",
       "      <th></th>\n",
       "      <th>vaxView</th>\n",
       "      <th>year</th>\n",
       "      <th>value</th>\n",
       "      <th>lowerLimit</th>\n",
       "      <th>upperLimit</th>\n",
       "      <th>sampleSize</th>\n",
       "      <th>confidenceInterval</th>\n",
       "      <th>demographicClass</th>\n",
       "      <th>location.id</th>\n",
       "      <th>upperError</th>\n",
       "      <th>lowerError</th>\n",
       "    </tr>\n",
       "  </thead>\n",
       "  <tbody>\n",
       "    <tr>\n",
       "      <th>0</th>\n",
       "      <td>0</td>\n",
       "      <td>2001</td>\n",
       "      <td>92.2</td>\n",
       "      <td>89.1</td>\n",
       "      <td>94.4</td>\n",
       "      <td>562.0</td>\n",
       "      <td>2.7</td>\n",
       "      <td>Age</td>\n",
       "      <td>Indiana_UnitedStates</td>\n",
       "      <td>2.2</td>\n",
       "      <td>3.1</td>\n",
       "    </tr>\n",
       "    <tr>\n",
       "      <th>1</th>\n",
       "      <td>0</td>\n",
       "      <td>2003</td>\n",
       "      <td>77.3</td>\n",
       "      <td>61.4</td>\n",
       "      <td>87.9</td>\n",
       "      <td>54.0</td>\n",
       "      <td>13.3</td>\n",
       "      <td>Facility Type</td>\n",
       "      <td>NewMexico_UnitedStates</td>\n",
       "      <td>10.6</td>\n",
       "      <td>15.9</td>\n",
       "    </tr>\n",
       "    <tr>\n",
       "      <th>2</th>\n",
       "      <td>0</td>\n",
       "      <td>2010</td>\n",
       "      <td>75.7</td>\n",
       "      <td>68.5</td>\n",
       "      <td>81.7</td>\n",
       "      <td>332.0</td>\n",
       "      <td>6.6</td>\n",
       "      <td>Age</td>\n",
       "      <td>NewJersey_UnitedStates</td>\n",
       "      <td>6.0</td>\n",
       "      <td>7.2</td>\n",
       "    </tr>\n",
       "    <tr>\n",
       "      <th>3</th>\n",
       "      <td>0</td>\n",
       "      <td>2017</td>\n",
       "      <td>76.9</td>\n",
       "      <td>75.3</td>\n",
       "      <td>78.5</td>\n",
       "      <td>11392.0</td>\n",
       "      <td>1.6</td>\n",
       "      <td>Poverty</td>\n",
       "      <td>UnitedStates</td>\n",
       "      <td>1.6</td>\n",
       "      <td>1.6</td>\n",
       "    </tr>\n",
       "    <tr>\n",
       "      <th>4</th>\n",
       "      <td>1</td>\n",
       "      <td>2015</td>\n",
       "      <td>45.3</td>\n",
       "      <td>38.1</td>\n",
       "      <td>52.5</td>\n",
       "      <td>461.0</td>\n",
       "      <td>7.2</td>\n",
       "      <td>Age</td>\n",
       "      <td>Kentucky_UnitedStates</td>\n",
       "      <td>7.2</td>\n",
       "      <td>7.2</td>\n",
       "    </tr>\n",
       "  </tbody>\n",
       "</table>\n",
       "</div>"
      ],
      "text/plain": [
       "   vaxView  year  value  lowerLimit  upperLimit  sampleSize  \\\n",
       "0        0  2001   92.2        89.1        94.4       562.0   \n",
       "1        0  2003   77.3        61.4        87.9        54.0   \n",
       "2        0  2010   75.7        68.5        81.7       332.0   \n",
       "3        0  2017   76.9        75.3        78.5     11392.0   \n",
       "4        1  2015   45.3        38.1        52.5       461.0   \n",
       "\n",
       "   confidenceInterval demographicClass             location.id  upperError  \\\n",
       "0                 2.7              Age    Indiana_UnitedStates         2.2   \n",
       "1                13.3    Facility Type  NewMexico_UnitedStates        10.6   \n",
       "2                 6.6              Age  NewJersey_UnitedStates         6.0   \n",
       "3                 1.6          Poverty            UnitedStates         1.6   \n",
       "4                 7.2              Age   Kentucky_UnitedStates         7.2   \n",
       "\n",
       "   lowerError  \n",
       "0         3.1  \n",
       "1        15.9  \n",
       "2         7.2  \n",
       "3         1.6  \n",
       "4         7.2  "
      ]
     },
     "execution_count": 213,
     "metadata": {},
     "output_type": "execute_result"
    }
   ],
   "source": [
    "vc = vaccine_coverage.replace(cleanup_vv)\n",
    "vc.head()"
   ]
  },
  {
   "cell_type": "code",
   "execution_count": 215,
   "metadata": {},
   "outputs": [
    {
     "data": {
      "text/plain": [
       "array([' Age', ' Facility Type', ' Poverty', ' Urbanicity',\n",
       "       ' Race/Ethnicity', ' WIC', ' Race/ethnicity', 'Primary Series ',\n",
       "       ' Insurance coverage', ' VFC Program Provider', 'To',\n",
       "       'Full Series ', ' Provider visit'], dtype=object)"
      ]
     },
     "execution_count": 215,
     "metadata": {},
     "output_type": "execute_result"
    }
   ],
   "source": [
    "vaccine_coverage['demographicClass'].unique()"
   ]
  },
  {
   "cell_type": "code",
   "execution_count": 216,
   "metadata": {},
   "outputs": [
    {
     "data": {
      "text/plain": [
       "dict_keys([1, 2, 3, 4, 5, 6, 7, 8, 9, 10, 11, 12, 13])"
      ]
     },
     "execution_count": 216,
     "metadata": {},
     "output_type": "execute_result"
    }
   ],
   "source": [
    "dc = dict(enumerate(vaccine_coverage['demographicClass'].unique().flatten(), 1))\n",
    "dc.keys()"
   ]
  },
  {
   "cell_type": "code",
   "execution_count": 217,
   "metadata": {},
   "outputs": [
    {
     "data": {
      "text/plain": [
       "{' Age': 1,\n",
       " ' Facility Type': 2,\n",
       " ' Poverty': 3,\n",
       " ' Urbanicity': 4,\n",
       " ' Race/Ethnicity': 5,\n",
       " ' WIC': 6,\n",
       " ' Race/ethnicity': 7,\n",
       " 'Primary Series ': 8,\n",
       " ' Insurance coverage': 9,\n",
       " ' VFC Program Provider': 10,\n",
       " 'To': 11,\n",
       " 'Full Series ': 12,\n",
       " ' Provider visit': 13}"
      ]
     },
     "execution_count": 217,
     "metadata": {},
     "output_type": "execute_result"
    }
   ],
   "source": [
    "dc_clean = dict(zip(dc.values(), dc.keys()))\n",
    "dc_clean"
   ]
  },
  {
   "cell_type": "code",
   "execution_count": 218,
   "metadata": {},
   "outputs": [
    {
     "data": {
      "text/html": [
       "<div>\n",
       "<style scoped>\n",
       "    .dataframe tbody tr th:only-of-type {\n",
       "        vertical-align: middle;\n",
       "    }\n",
       "\n",
       "    .dataframe tbody tr th {\n",
       "        vertical-align: top;\n",
       "    }\n",
       "\n",
       "    .dataframe thead th {\n",
       "        text-align: right;\n",
       "    }\n",
       "</style>\n",
       "<table border=\"1\" class=\"dataframe\">\n",
       "  <thead>\n",
       "    <tr style=\"text-align: right;\">\n",
       "      <th></th>\n",
       "      <th>vaxView</th>\n",
       "      <th>year</th>\n",
       "      <th>value</th>\n",
       "      <th>lowerLimit</th>\n",
       "      <th>upperLimit</th>\n",
       "      <th>sampleSize</th>\n",
       "      <th>confidenceInterval</th>\n",
       "      <th>demographicClass</th>\n",
       "      <th>location.id</th>\n",
       "      <th>upperError</th>\n",
       "      <th>lowerError</th>\n",
       "    </tr>\n",
       "  </thead>\n",
       "  <tbody>\n",
       "    <tr>\n",
       "      <th>0</th>\n",
       "      <td>0</td>\n",
       "      <td>2001</td>\n",
       "      <td>92.2</td>\n",
       "      <td>89.1</td>\n",
       "      <td>94.4</td>\n",
       "      <td>562.0</td>\n",
       "      <td>2.7</td>\n",
       "      <td>1</td>\n",
       "      <td>Indiana_UnitedStates</td>\n",
       "      <td>2.2</td>\n",
       "      <td>3.1</td>\n",
       "    </tr>\n",
       "    <tr>\n",
       "      <th>1</th>\n",
       "      <td>0</td>\n",
       "      <td>2003</td>\n",
       "      <td>77.3</td>\n",
       "      <td>61.4</td>\n",
       "      <td>87.9</td>\n",
       "      <td>54.0</td>\n",
       "      <td>13.3</td>\n",
       "      <td>2</td>\n",
       "      <td>NewMexico_UnitedStates</td>\n",
       "      <td>10.6</td>\n",
       "      <td>15.9</td>\n",
       "    </tr>\n",
       "    <tr>\n",
       "      <th>2</th>\n",
       "      <td>0</td>\n",
       "      <td>2010</td>\n",
       "      <td>75.7</td>\n",
       "      <td>68.5</td>\n",
       "      <td>81.7</td>\n",
       "      <td>332.0</td>\n",
       "      <td>6.6</td>\n",
       "      <td>1</td>\n",
       "      <td>NewJersey_UnitedStates</td>\n",
       "      <td>6.0</td>\n",
       "      <td>7.2</td>\n",
       "    </tr>\n",
       "    <tr>\n",
       "      <th>3</th>\n",
       "      <td>0</td>\n",
       "      <td>2017</td>\n",
       "      <td>76.9</td>\n",
       "      <td>75.3</td>\n",
       "      <td>78.5</td>\n",
       "      <td>11392.0</td>\n",
       "      <td>1.6</td>\n",
       "      <td>3</td>\n",
       "      <td>UnitedStates</td>\n",
       "      <td>1.6</td>\n",
       "      <td>1.6</td>\n",
       "    </tr>\n",
       "    <tr>\n",
       "      <th>4</th>\n",
       "      <td>1</td>\n",
       "      <td>2015</td>\n",
       "      <td>45.3</td>\n",
       "      <td>38.1</td>\n",
       "      <td>52.5</td>\n",
       "      <td>461.0</td>\n",
       "      <td>7.2</td>\n",
       "      <td>1</td>\n",
       "      <td>Kentucky_UnitedStates</td>\n",
       "      <td>7.2</td>\n",
       "      <td>7.2</td>\n",
       "    </tr>\n",
       "  </tbody>\n",
       "</table>\n",
       "</div>"
      ],
      "text/plain": [
       "   vaxView  year  value  lowerLimit  upperLimit  sampleSize  \\\n",
       "0        0  2001   92.2        89.1        94.4       562.0   \n",
       "1        0  2003   77.3        61.4        87.9        54.0   \n",
       "2        0  2010   75.7        68.5        81.7       332.0   \n",
       "3        0  2017   76.9        75.3        78.5     11392.0   \n",
       "4        1  2015   45.3        38.1        52.5       461.0   \n",
       "\n",
       "   confidenceInterval  demographicClass             location.id  upperError  \\\n",
       "0                 2.7                 1    Indiana_UnitedStates         2.2   \n",
       "1                13.3                 2  NewMexico_UnitedStates        10.6   \n",
       "2                 6.6                 1  NewJersey_UnitedStates         6.0   \n",
       "3                 1.6                 3            UnitedStates         1.6   \n",
       "4                 7.2                 1   Kentucky_UnitedStates         7.2   \n",
       "\n",
       "   lowerError  \n",
       "0         3.1  \n",
       "1        15.9  \n",
       "2         7.2  \n",
       "3         1.6  \n",
       "4         7.2  "
      ]
     },
     "execution_count": 218,
     "metadata": {},
     "output_type": "execute_result"
    }
   ],
   "source": [
    "vc = vc.replace({'demographicClass': dc_clean})\n",
    "vc.head()"
   ]
  },
  {
   "cell_type": "code",
   "execution_count": 226,
   "metadata": {},
   "outputs": [],
   "source": [
    "### Since we are working on data from all of US, we will remove the location column\n",
    "\n",
    "vc.drop(['location.id'], axis=1, inplace=True)"
   ]
  },
  {
   "cell_type": "code",
   "execution_count": 227,
   "metadata": {},
   "outputs": [],
   "source": [
    "vc.to_csv(\"Cleaned-data-vc.csv\")"
   ]
  },
  {
   "cell_type": "code",
   "execution_count": null,
   "metadata": {},
   "outputs": [],
   "source": []
  }
 ],
 "metadata": {
  "kernelspec": {
   "display_name": "Python 3",
   "language": "python",
   "name": "python3"
  },
  "language_info": {
   "codemirror_mode": {
    "name": "ipython",
    "version": 3
   },
   "file_extension": ".py",
   "mimetype": "text/x-python",
   "name": "python",
   "nbconvert_exporter": "python",
   "pygments_lexer": "ipython3",
   "version": "3.8.5"
  }
 },
 "nbformat": 4,
 "nbformat_minor": 4
}
