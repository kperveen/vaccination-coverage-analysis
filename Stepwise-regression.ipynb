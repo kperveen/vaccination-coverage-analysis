{
 "cells": [
  {
   "cell_type": "code",
   "execution_count": 77,
   "metadata": {},
   "outputs": [],
   "source": [
    "import pandas as pd\n",
    "import numpy as np\n",
    "import statsmodels.api as sm\n",
    "import itertools\n",
    "import matplotlib.pyplot as plt\n",
    "from sklearn.model_selection import train_test_split\n",
    "from sklearn.metrics import mean_squared_error\n",
    "\n",
    "%matplotlib inline"
   ]
  },
  {
   "cell_type": "code",
   "execution_count": 39,
   "metadata": {},
   "outputs": [
    {
     "data": {
      "text/html": [
       "<div>\n",
       "<style scoped>\n",
       "    .dataframe tbody tr th:only-of-type {\n",
       "        vertical-align: middle;\n",
       "    }\n",
       "\n",
       "    .dataframe tbody tr th {\n",
       "        vertical-align: top;\n",
       "    }\n",
       "\n",
       "    .dataframe thead th {\n",
       "        text-align: right;\n",
       "    }\n",
       "</style>\n",
       "<table border=\"1\" class=\"dataframe\">\n",
       "  <thead>\n",
       "    <tr style=\"text-align: right;\">\n",
       "      <th></th>\n",
       "      <th>Unnamed: 0</th>\n",
       "      <th>vaxView</th>\n",
       "      <th>year</th>\n",
       "      <th>value</th>\n",
       "      <th>lowerLimit</th>\n",
       "      <th>upperLimit</th>\n",
       "      <th>sampleSize</th>\n",
       "      <th>confidenceInterval</th>\n",
       "      <th>demographicClass</th>\n",
       "      <th>upperError</th>\n",
       "      <th>lowerError</th>\n",
       "    </tr>\n",
       "  </thead>\n",
       "  <tbody>\n",
       "    <tr>\n",
       "      <th>0</th>\n",
       "      <td>0</td>\n",
       "      <td>0.000000</td>\n",
       "      <td>2001</td>\n",
       "      <td>92.2</td>\n",
       "      <td>0.897545</td>\n",
       "      <td>0.940022</td>\n",
       "      <td>0.015281</td>\n",
       "      <td>0.071429</td>\n",
       "      <td>0.000000</td>\n",
       "      <td>0.072797</td>\n",
       "      <td>0.055556</td>\n",
       "    </tr>\n",
       "    <tr>\n",
       "      <th>1</th>\n",
       "      <td>1</td>\n",
       "      <td>0.000000</td>\n",
       "      <td>2003</td>\n",
       "      <td>77.3</td>\n",
       "      <td>0.601921</td>\n",
       "      <td>0.869138</td>\n",
       "      <td>0.000689</td>\n",
       "      <td>0.415584</td>\n",
       "      <td>0.083333</td>\n",
       "      <td>0.394636</td>\n",
       "      <td>0.364734</td>\n",
       "    </tr>\n",
       "    <tr>\n",
       "      <th>2</th>\n",
       "      <td>2</td>\n",
       "      <td>0.000000</td>\n",
       "      <td>2010</td>\n",
       "      <td>75.7</td>\n",
       "      <td>0.677695</td>\n",
       "      <td>0.801527</td>\n",
       "      <td>0.008674</td>\n",
       "      <td>0.198052</td>\n",
       "      <td>0.000000</td>\n",
       "      <td>0.218391</td>\n",
       "      <td>0.154589</td>\n",
       "    </tr>\n",
       "    <tr>\n",
       "      <th>3</th>\n",
       "      <td>3</td>\n",
       "      <td>0.000000</td>\n",
       "      <td>2017</td>\n",
       "      <td>76.9</td>\n",
       "      <td>0.750267</td>\n",
       "      <td>0.766630</td>\n",
       "      <td>0.326354</td>\n",
       "      <td>0.035714</td>\n",
       "      <td>0.166667</td>\n",
       "      <td>0.049808</td>\n",
       "      <td>0.019324</td>\n",
       "    </tr>\n",
       "    <tr>\n",
       "      <th>4</th>\n",
       "      <td>4</td>\n",
       "      <td>0.333333</td>\n",
       "      <td>2015</td>\n",
       "      <td>45.3</td>\n",
       "      <td>0.353255</td>\n",
       "      <td>0.483097</td>\n",
       "      <td>0.012380</td>\n",
       "      <td>0.217532</td>\n",
       "      <td>0.000000</td>\n",
       "      <td>0.264368</td>\n",
       "      <td>0.154589</td>\n",
       "    </tr>\n",
       "  </tbody>\n",
       "</table>\n",
       "</div>"
      ],
      "text/plain": [
       "   Unnamed: 0   vaxView  year  value  lowerLimit  upperLimit  sampleSize  \\\n",
       "0           0  0.000000  2001   92.2    0.897545    0.940022    0.015281   \n",
       "1           1  0.000000  2003   77.3    0.601921    0.869138    0.000689   \n",
       "2           2  0.000000  2010   75.7    0.677695    0.801527    0.008674   \n",
       "3           3  0.000000  2017   76.9    0.750267    0.766630    0.326354   \n",
       "4           4  0.333333  2015   45.3    0.353255    0.483097    0.012380   \n",
       "\n",
       "   confidenceInterval  demographicClass  upperError  lowerError  \n",
       "0            0.071429          0.000000    0.072797    0.055556  \n",
       "1            0.415584          0.083333    0.394636    0.364734  \n",
       "2            0.198052          0.000000    0.218391    0.154589  \n",
       "3            0.035714          0.166667    0.049808    0.019324  \n",
       "4            0.217532          0.000000    0.264368    0.154589  "
      ]
     },
     "execution_count": 39,
     "metadata": {},
     "output_type": "execute_result"
    }
   ],
   "source": [
    "data = pd.read_csv('std_df_full.csv', index_col=False)\n",
    "data.head()"
   ]
  },
  {
   "cell_type": "code",
   "execution_count": 40,
   "metadata": {},
   "outputs": [],
   "source": [
    "data.drop(['Unnamed: 0', 'upperLimit', 'upperError', 'confidenceInterval'], axis=1, inplace=True)"
   ]
  },
  {
   "cell_type": "code",
   "execution_count": 41,
   "metadata": {},
   "outputs": [],
   "source": [
    "corr = data.corr()"
   ]
  },
  {
   "cell_type": "code",
   "execution_count": 42,
   "metadata": {},
   "outputs": [
    {
     "data": {
      "text/html": [
       "<div>\n",
       "<style scoped>\n",
       "    .dataframe tbody tr th:only-of-type {\n",
       "        vertical-align: middle;\n",
       "    }\n",
       "\n",
       "    .dataframe tbody tr th {\n",
       "        vertical-align: top;\n",
       "    }\n",
       "\n",
       "    .dataframe thead th {\n",
       "        text-align: right;\n",
       "    }\n",
       "</style>\n",
       "<table border=\"1\" class=\"dataframe\">\n",
       "  <thead>\n",
       "    <tr style=\"text-align: right;\">\n",
       "      <th></th>\n",
       "      <th>vaxView</th>\n",
       "      <th>year</th>\n",
       "      <th>value</th>\n",
       "      <th>lowerLimit</th>\n",
       "      <th>sampleSize</th>\n",
       "      <th>demographicClass</th>\n",
       "      <th>lowerError</th>\n",
       "    </tr>\n",
       "  </thead>\n",
       "  <tbody>\n",
       "    <tr>\n",
       "      <th>vaxView</th>\n",
       "      <td>1.000000</td>\n",
       "      <td>0.417557</td>\n",
       "      <td>-0.398359</td>\n",
       "      <td>-0.389750</td>\n",
       "      <td>0.063994</td>\n",
       "      <td>0.057740</td>\n",
       "      <td>0.019109</td>\n",
       "    </tr>\n",
       "    <tr>\n",
       "      <th>year</th>\n",
       "      <td>0.417557</td>\n",
       "      <td>1.000000</td>\n",
       "      <td>-0.102136</td>\n",
       "      <td>-0.119767</td>\n",
       "      <td>0.000433</td>\n",
       "      <td>0.217980</td>\n",
       "      <td>0.090604</td>\n",
       "    </tr>\n",
       "    <tr>\n",
       "      <th>value</th>\n",
       "      <td>-0.398359</td>\n",
       "      <td>-0.102136</td>\n",
       "      <td>1.000000</td>\n",
       "      <td>0.972857</td>\n",
       "      <td>-0.093155</td>\n",
       "      <td>-0.026033</td>\n",
       "      <td>-0.024076</td>\n",
       "    </tr>\n",
       "    <tr>\n",
       "      <th>lowerLimit</th>\n",
       "      <td>-0.389750</td>\n",
       "      <td>-0.119767</td>\n",
       "      <td>0.972857</td>\n",
       "      <td>1.000000</td>\n",
       "      <td>-0.028587</td>\n",
       "      <td>-0.064287</td>\n",
       "      <td>-0.254763</td>\n",
       "    </tr>\n",
       "    <tr>\n",
       "      <th>sampleSize</th>\n",
       "      <td>0.063994</td>\n",
       "      <td>0.000433</td>\n",
       "      <td>-0.093155</td>\n",
       "      <td>-0.028587</td>\n",
       "      <td>1.000000</td>\n",
       "      <td>-0.082367</td>\n",
       "      <td>-0.265775</td>\n",
       "    </tr>\n",
       "    <tr>\n",
       "      <th>demographicClass</th>\n",
       "      <td>0.057740</td>\n",
       "      <td>0.217980</td>\n",
       "      <td>-0.026033</td>\n",
       "      <td>-0.064287</td>\n",
       "      <td>-0.082367</td>\n",
       "      <td>1.000000</td>\n",
       "      <td>0.168944</td>\n",
       "    </tr>\n",
       "    <tr>\n",
       "      <th>lowerError</th>\n",
       "      <td>0.019109</td>\n",
       "      <td>0.090604</td>\n",
       "      <td>-0.024076</td>\n",
       "      <td>-0.254763</td>\n",
       "      <td>-0.265775</td>\n",
       "      <td>0.168944</td>\n",
       "      <td>1.000000</td>\n",
       "    </tr>\n",
       "  </tbody>\n",
       "</table>\n",
       "</div>"
      ],
      "text/plain": [
       "                   vaxView      year     value  lowerLimit  sampleSize  \\\n",
       "vaxView           1.000000  0.417557 -0.398359   -0.389750    0.063994   \n",
       "year              0.417557  1.000000 -0.102136   -0.119767    0.000433   \n",
       "value            -0.398359 -0.102136  1.000000    0.972857   -0.093155   \n",
       "lowerLimit       -0.389750 -0.119767  0.972857    1.000000   -0.028587   \n",
       "sampleSize        0.063994  0.000433 -0.093155   -0.028587    1.000000   \n",
       "demographicClass  0.057740  0.217980 -0.026033   -0.064287   -0.082367   \n",
       "lowerError        0.019109  0.090604 -0.024076   -0.254763   -0.265775   \n",
       "\n",
       "                  demographicClass  lowerError  \n",
       "vaxView                   0.057740    0.019109  \n",
       "year                      0.217980    0.090604  \n",
       "value                    -0.026033   -0.024076  \n",
       "lowerLimit               -0.064287   -0.254763  \n",
       "sampleSize               -0.082367   -0.265775  \n",
       "demographicClass          1.000000    0.168944  \n",
       "lowerError                0.168944    1.000000  "
      ]
     },
     "execution_count": 42,
     "metadata": {},
     "output_type": "execute_result"
    }
   ],
   "source": [
    "corr"
   ]
  },
  {
   "cell_type": "markdown",
   "metadata": {},
   "source": [
    "### Removing features with correlation > 0.9"
   ]
  },
  {
   "cell_type": "code",
   "execution_count": 43,
   "metadata": {},
   "outputs": [],
   "source": [
    "# columns = np.full((corr.shape[0],), True, dtype=bool)\n",
    "# for i in range(corr.shape[0]):\n",
    "#     for j in range(i+1, corr.shape[0]):\n",
    "#         if corr.iloc[i,j] >= 0.9:\n",
    "#             if columns[j]:\n",
    "#                 columns[j] = False\n",
    "# selected_columns = data.columns[columns]\n",
    "# selected_columns"
   ]
  },
  {
   "cell_type": "code",
   "execution_count": 45,
   "metadata": {},
   "outputs": [],
   "source": [
    "y = data['value']  # assign the predictor to y\n",
    "X = data.drop(['value'], axis=1).astype('float64')  # dropping the predictor"
   ]
  },
  {
   "cell_type": "code",
   "execution_count": 46,
   "metadata": {},
   "outputs": [],
   "source": [
    "def get_stats():\n",
    "    results = sm.OLS(y, X).fit()\n",
    "    print(results.summary())"
   ]
  },
  {
   "cell_type": "code",
   "execution_count": 47,
   "metadata": {},
   "outputs": [
    {
     "name": "stdout",
     "output_type": "stream",
     "text": [
      "                                 OLS Regression Results                                \n",
      "=======================================================================================\n",
      "Dep. Variable:                  value   R-squared (uncentered):                   1.000\n",
      "Model:                            OLS   Adj. R-squared (uncentered):              1.000\n",
      "Method:                 Least Squares   F-statistic:                          6.894e+09\n",
      "Date:                Fri, 07 May 2021   Prob (F-statistic):                        0.00\n",
      "Time:                        14:06:12   Log-Likelihood:                          4889.5\n",
      "No. Observations:                1808   AIC:                                     -9767.\n",
      "Df Residuals:                    1802   BIC:                                     -9734.\n",
      "Df Model:                           6                                                  \n",
      "Covariance Type:            nonrobust                                                  \n",
      "====================================================================================\n",
      "                       coef    std err          t      P>|t|      [0.025      0.975]\n",
      "------------------------------------------------------------------------------------\n",
      "vaxView             -0.0293      0.002    -18.937      0.000      -0.032      -0.026\n",
      "year                 0.0029    8.6e-07   3366.466      0.000       0.003       0.003\n",
      "lowerLimit          93.6943      0.002   4.96e+04      0.000      93.691      93.698\n",
      "sampleSize          -0.0027      0.008     -0.332      0.740      -0.019       0.013\n",
      "demographicClass    -0.0144      0.002     -8.707      0.000      -0.018      -0.011\n",
      "lowerError          41.3897      0.003   1.19e+04      0.000      41.383      41.397\n",
      "==============================================================================\n",
      "Omnibus:                      125.910   Durbin-Watson:                   2.017\n",
      "Prob(Omnibus):                  0.000   Jarque-Bera (JB):               45.092\n",
      "Skew:                           0.071   Prob(JB):                     1.62e-10\n",
      "Kurtosis:                       2.239   Cond. No.                     4.39e+04\n",
      "==============================================================================\n",
      "\n",
      "Notes:\n",
      "[1] R² is computed without centering (uncentered) since the model does not contain a constant.\n",
      "[2] Standard Errors assume that the covariance matrix of the errors is correctly specified.\n",
      "[3] The condition number is large, 4.39e+04. This might indicate that there are\n",
      "strong multicollinearity or other numerical problems.\n"
     ]
    }
   ],
   "source": [
    "get_stats()"
   ]
  },
  {
   "cell_type": "code",
   "execution_count": 48,
   "metadata": {},
   "outputs": [],
   "source": [
    "# X.drop(columns=['vaxView', 'confidenceInterval', 'demographicClass', 'year'], inplace=True)"
   ]
  },
  {
   "cell_type": "code",
   "execution_count": 49,
   "metadata": {},
   "outputs": [
    {
     "name": "stdout",
     "output_type": "stream",
     "text": [
      "                                 OLS Regression Results                                \n",
      "=======================================================================================\n",
      "Dep. Variable:                  value   R-squared (uncentered):                   1.000\n",
      "Model:                            OLS   Adj. R-squared (uncentered):              1.000\n",
      "Method:                 Least Squares   F-statistic:                          6.894e+09\n",
      "Date:                Fri, 07 May 2021   Prob (F-statistic):                        0.00\n",
      "Time:                        14:06:13   Log-Likelihood:                          4889.5\n",
      "No. Observations:                1808   AIC:                                     -9767.\n",
      "Df Residuals:                    1802   BIC:                                     -9734.\n",
      "Df Model:                           6                                                  \n",
      "Covariance Type:            nonrobust                                                  \n",
      "====================================================================================\n",
      "                       coef    std err          t      P>|t|      [0.025      0.975]\n",
      "------------------------------------------------------------------------------------\n",
      "vaxView             -0.0293      0.002    -18.937      0.000      -0.032      -0.026\n",
      "year                 0.0029    8.6e-07   3366.466      0.000       0.003       0.003\n",
      "lowerLimit          93.6943      0.002   4.96e+04      0.000      93.691      93.698\n",
      "sampleSize          -0.0027      0.008     -0.332      0.740      -0.019       0.013\n",
      "demographicClass    -0.0144      0.002     -8.707      0.000      -0.018      -0.011\n",
      "lowerError          41.3897      0.003   1.19e+04      0.000      41.383      41.397\n",
      "==============================================================================\n",
      "Omnibus:                      125.910   Durbin-Watson:                   2.017\n",
      "Prob(Omnibus):                  0.000   Jarque-Bera (JB):               45.092\n",
      "Skew:                           0.071   Prob(JB):                     1.62e-10\n",
      "Kurtosis:                       2.239   Cond. No.                     4.39e+04\n",
      "==============================================================================\n",
      "\n",
      "Notes:\n",
      "[1] R² is computed without centering (uncentered) since the model does not contain a constant.\n",
      "[2] Standard Errors assume that the covariance matrix of the errors is correctly specified.\n",
      "[3] The condition number is large, 4.39e+04. This might indicate that there are\n",
      "strong multicollinearity or other numerical problems.\n"
     ]
    }
   ],
   "source": [
    "get_stats()"
   ]
  },
  {
   "cell_type": "markdown",
   "metadata": {},
   "source": [
    "## Best subset selection"
   ]
  },
  {
   "cell_type": "code",
   "execution_count": 50,
   "metadata": {},
   "outputs": [],
   "source": [
    "X = data.drop(['value'], axis=1).astype('float64') "
   ]
  },
  {
   "cell_type": "code",
   "execution_count": 51,
   "metadata": {},
   "outputs": [],
   "source": [
    "def processSubset(feature_set):\n",
    "    # Fit model on feature_set and calculate RSS\n",
    "    X_data = sm.add_constant(X)\n",
    "    model = sm.OLS(y,X[list(feature_set)])\n",
    "    regr = model.fit()\n",
    "    RSS = ((regr.predict(X[list(feature_set)]) - y) ** 2).sum()\n",
    "    return {\"model\":regr, \"RSS\":RSS, \"AIC\": regr.aic,  \"BIC\": regr.bic, \"features\": list(feature_set)}"
   ]
  },
  {
   "cell_type": "code",
   "execution_count": 52,
   "metadata": {},
   "outputs": [],
   "source": [
    "def getBest(k):\n",
    "    \n",
    "    results = []\n",
    "    \n",
    "    for combo in itertools.combinations(X.columns, k):\n",
    "        results.append(processSubset(combo))\n",
    "\n",
    "    models = pd.DataFrame(results)\n",
    "\n",
    "    df = models[models['AIC'] == models['AIC'].min()]\n",
    "\n",
    "    best_model_aic = df.iloc[0]\n",
    "\n",
    "    print(\"Processed\", models.shape[0], \"models on\", k, \"predictors\")\n",
    "\n",
    "    return best_model_aic"
   ]
  },
  {
   "cell_type": "code",
   "execution_count": 54,
   "metadata": {},
   "outputs": [
    {
     "name": "stdout",
     "output_type": "stream",
     "text": [
      "Processed 6 models on 1 predictors\n",
      "Processed 15 models on 2 predictors\n",
      "Processed 20 models on 3 predictors\n",
      "Processed 15 models on 4 predictors\n",
      "Processed 6 models on 5 predictors\n",
      "Processed 1 models on 6 predictors\n"
     ]
    }
   ],
   "source": [
    "models_best = pd.DataFrame(columns=[\"RSS\", \"model\", \"AIC\", \"BIC\", \"features\"])\n",
    "\n",
    "for i in range(1,7):\n",
    "    models_best.loc[i] = getBest(i)"
   ]
  },
  {
   "cell_type": "code",
   "execution_count": 55,
   "metadata": {},
   "outputs": [
    {
     "name": "stdout",
     "output_type": "stream",
     "text": [
      "\n",
      "\n"
     ]
    },
    {
     "data": {
      "text/plain": [
       "Text(0, 0.5, 'BIC')"
      ]
     },
     "execution_count": 55,
     "metadata": {},
     "output_type": "execute_result"
    },
    {
     "data": {
      "image/png": "[encoded data removed]",
      "text/plain": [
       "<Figure size 1440x720 with 4 Axes>"
      ]
     },
     "metadata": {
      "needs_background": "light"
     },
     "output_type": "display_data"
    }
   ],
   "source": [
    "plt.figure(figsize=(20,10))\n",
    "plt.rcParams.update({'font.size': 18, 'lines.markersize': 10})\n",
    "\n",
    "# Set up a 2x2 grid so we can look at 4 plots at once\n",
    "plt.subplot(2, 2, 1)\n",
    "\n",
    "# We will now plot a red dot to indicate the model with the largest adjusted R^2 statistic.\n",
    "# The argmax() function can be used to identify the location of the maximum point of a vector\n",
    "plt.plot(models_best[\"RSS\"])\n",
    "plt.xlabel('# Predictors')\n",
    "plt.ylabel('RSS')\n",
    "\n",
    "# We will now plot a red dot to indicate the model with the largest adjusted R^2 statistic.\n",
    "# The argmax() function can be used to identify the location of the maximum point of a vector\n",
    "\n",
    "rsquared_adj = models_best.apply(lambda row: row[1].rsquared_adj, axis=1)\n",
    "\n",
    "plt.subplot(2, 2, 2)\n",
    "plt.plot(rsquared_adj)\n",
    "plt.plot(rsquared_adj.argmax(), rsquared_adj.max(), \"or\")\n",
    "plt.xlabel('# Predictors')\n",
    "plt.ylabel('adjusted rsquared')\n",
    "\n",
    "# We'll do the same for AIC and BIC, this time looking for the models with the SMALLEST statistic\n",
    "aic = models_best.apply(lambda row: row[1].aic, axis=1)\n",
    "\n",
    "plt.subplot(2, 2, 3)\n",
    "plt.plot(aic)\n",
    "plt.plot(aic.argmin(), aic.min(), \"or\")\n",
    "plt.xlabel('# Predictors')\n",
    "plt.ylabel('AIC')\n",
    "\n",
    "print(\"\\n\")\n",
    "\n",
    "bic = models_best.apply(lambda row: row[1].bic, axis=1)\n",
    "\n",
    "plt.subplot(2, 2, 4)\n",
    "plt.plot(bic)\n",
    "plt.plot(bic.argmin(), bic.min(), \"or\")\n",
    "plt.xlabel('# Predictors')\n",
    "plt.ylabel('BIC')\n",
    "\n"
   ]
  },
  {
   "cell_type": "markdown",
   "metadata": {},
   "source": [
    "### Model with lowest AIC value"
   ]
  },
  {
   "cell_type": "code",
   "execution_count": 56,
   "metadata": {},
   "outputs": [
    {
     "name": "stdout",
     "output_type": "stream",
     "text": [
      "                                 OLS Regression Results                                \n",
      "=======================================================================================\n",
      "Dep. Variable:                  value   R-squared (uncentered):                   1.000\n",
      "Model:                            OLS   Adj. R-squared (uncentered):              1.000\n",
      "Method:                 Least Squares   F-statistic:                          8.277e+09\n",
      "Date:                Fri, 07 May 2021   Prob (F-statistic):                        0.00\n",
      "Time:                        14:06:25   Log-Likelihood:                          4889.4\n",
      "No. Observations:                1808   AIC:                                     -9769.\n",
      "Df Residuals:                    1803   BIC:                                     -9741.\n",
      "Df Model:                           5                                                  \n",
      "Covariance Type:            nonrobust                                                  \n",
      "====================================================================================\n",
      "                       coef    std err          t      P>|t|      [0.025      0.975]\n",
      "------------------------------------------------------------------------------------\n",
      "vaxView             -0.0293      0.002    -18.964      0.000      -0.032      -0.026\n",
      "year                 0.0029   8.37e-07   3459.974      0.000       0.003       0.003\n",
      "lowerLimit          93.6944      0.002   4.97e+04      0.000      93.691      93.698\n",
      "demographicClass    -0.0144      0.002     -8.703      0.000      -0.018      -0.011\n",
      "lowerError          41.3900      0.003   1.23e+04      0.000      41.383      41.397\n",
      "==============================================================================\n",
      "Omnibus:                      125.761   Durbin-Watson:                   2.017\n",
      "Prob(Omnibus):                  0.000   Jarque-Bera (JB):               45.048\n",
      "Skew:                           0.070   Prob(JB):                     1.65e-10\n",
      "Kurtosis:                       2.240   Cond. No.                     1.81e+04\n",
      "==============================================================================\n",
      "\n",
      "Notes:\n",
      "[1] R² is computed without centering (uncentered) since the model does not contain a constant.\n",
      "[2] Standard Errors assume that the covariance matrix of the errors is correctly specified.\n",
      "[3] The condition number is large, 1.81e+04. This might indicate that there are\n",
      "strong multicollinearity or other numerical problems.\n"
     ]
    }
   ],
   "source": [
    "print(models_best.loc[models_best['AIC'] == models_best['AIC'].min()][\"model\"].tolist()[0].summary())"
   ]
  },
  {
   "cell_type": "markdown",
   "metadata": {},
   "source": [
    "### Model with lowest BIC value"
   ]
  },
  {
   "cell_type": "code",
   "execution_count": 57,
   "metadata": {},
   "outputs": [
    {
     "name": "stdout",
     "output_type": "stream",
     "text": [
      "                                 OLS Regression Results                                \n",
      "=======================================================================================\n",
      "Dep. Variable:                  value   R-squared (uncentered):                   1.000\n",
      "Model:                            OLS   Adj. R-squared (uncentered):              1.000\n",
      "Method:                 Least Squares   F-statistic:                          8.277e+09\n",
      "Date:                Fri, 07 May 2021   Prob (F-statistic):                        0.00\n",
      "Time:                        14:06:26   Log-Likelihood:                          4889.4\n",
      "No. Observations:                1808   AIC:                                     -9769.\n",
      "Df Residuals:                    1803   BIC:                                     -9741.\n",
      "Df Model:                           5                                                  \n",
      "Covariance Type:            nonrobust                                                  \n",
      "====================================================================================\n",
      "                       coef    std err          t      P>|t|      [0.025      0.975]\n",
      "------------------------------------------------------------------------------------\n",
      "vaxView             -0.0293      0.002    -18.964      0.000      -0.032      -0.026\n",
      "year                 0.0029   8.37e-07   3459.974      0.000       0.003       0.003\n",
      "lowerLimit          93.6944      0.002   4.97e+04      0.000      93.691      93.698\n",
      "demographicClass    -0.0144      0.002     -8.703      0.000      -0.018      -0.011\n",
      "lowerError          41.3900      0.003   1.23e+04      0.000      41.383      41.397\n",
      "==============================================================================\n",
      "Omnibus:                      125.761   Durbin-Watson:                   2.017\n",
      "Prob(Omnibus):                  0.000   Jarque-Bera (JB):               45.048\n",
      "Skew:                           0.070   Prob(JB):                     1.65e-10\n",
      "Kurtosis:                       2.240   Cond. No.                     1.81e+04\n",
      "==============================================================================\n",
      "\n",
      "Notes:\n",
      "[1] R² is computed without centering (uncentered) since the model does not contain a constant.\n",
      "[2] Standard Errors assume that the covariance matrix of the errors is correctly specified.\n",
      "[3] The condition number is large, 1.81e+04. This might indicate that there are\n",
      "strong multicollinearity or other numerical problems.\n"
     ]
    }
   ],
   "source": [
    "print(models_best.loc[models_best['BIC'] == models_best['BIC'].min()][\"model\"].tolist()[0].summary())"
   ]
  },
  {
   "cell_type": "markdown",
   "metadata": {},
   "source": [
    "### Model with lowest RSS value"
   ]
  },
  {
   "cell_type": "code",
   "execution_count": 58,
   "metadata": {},
   "outputs": [
    {
     "data": {
      "text/html": [
       "<div>\n",
       "<style scoped>\n",
       "    .dataframe tbody tr th:only-of-type {\n",
       "        vertical-align: middle;\n",
       "    }\n",
       "\n",
       "    .dataframe tbody tr th {\n",
       "        vertical-align: top;\n",
       "    }\n",
       "\n",
       "    .dataframe thead th {\n",
       "        text-align: right;\n",
       "    }\n",
       "</style>\n",
       "<table border=\"1\" class=\"dataframe\">\n",
       "  <thead>\n",
       "    <tr style=\"text-align: right;\">\n",
       "      <th></th>\n",
       "      <th>RSS</th>\n",
       "      <th>model</th>\n",
       "      <th>AIC</th>\n",
       "      <th>BIC</th>\n",
       "      <th>features</th>\n",
       "    </tr>\n",
       "  </thead>\n",
       "  <tbody>\n",
       "    <tr>\n",
       "      <th>6</th>\n",
       "      <td>0.473982</td>\n",
       "      <td>&lt;statsmodels.regression.linear_model.Regressio...</td>\n",
       "      <td>-9766.902621</td>\n",
       "      <td>-9733.902762</td>\n",
       "      <td>[vaxView, year, lowerLimit, sampleSize, demogr...</td>\n",
       "    </tr>\n",
       "  </tbody>\n",
       "</table>\n",
       "</div>"
      ],
      "text/plain": [
       "        RSS                                              model          AIC  \\\n",
       "6  0.473982  <statsmodels.regression.linear_model.Regressio... -9766.902621   \n",
       "\n",
       "           BIC                                           features  \n",
       "6 -9733.902762  [vaxView, year, lowerLimit, sampleSize, demogr...  "
      ]
     },
     "execution_count": 58,
     "metadata": {},
     "output_type": "execute_result"
    }
   ],
   "source": [
    "models_best.loc[models_best['RSS'] == models_best['RSS'].min()]"
   ]
  },
  {
   "cell_type": "code",
   "execution_count": 59,
   "metadata": {},
   "outputs": [
    {
     "name": "stdout",
     "output_type": "stream",
     "text": [
      "                                 OLS Regression Results                                \n",
      "=======================================================================================\n",
      "Dep. Variable:                  value   R-squared (uncentered):                   1.000\n",
      "Model:                            OLS   Adj. R-squared (uncentered):              1.000\n",
      "Method:                 Least Squares   F-statistic:                          6.894e+09\n",
      "Date:                Fri, 07 May 2021   Prob (F-statistic):                        0.00\n",
      "Time:                        14:06:26   Log-Likelihood:                          4889.5\n",
      "No. Observations:                1808   AIC:                                     -9767.\n",
      "Df Residuals:                    1802   BIC:                                     -9734.\n",
      "Df Model:                           6                                                  \n",
      "Covariance Type:            nonrobust                                                  \n",
      "====================================================================================\n",
      "                       coef    std err          t      P>|t|      [0.025      0.975]\n",
      "------------------------------------------------------------------------------------\n",
      "vaxView             -0.0293      0.002    -18.937      0.000      -0.032      -0.026\n",
      "year                 0.0029    8.6e-07   3366.466      0.000       0.003       0.003\n",
      "lowerLimit          93.6943      0.002   4.96e+04      0.000      93.691      93.698\n",
      "sampleSize          -0.0027      0.008     -0.332      0.740      -0.019       0.013\n",
      "demographicClass    -0.0144      0.002     -8.707      0.000      -0.018      -0.011\n",
      "lowerError          41.3897      0.003   1.19e+04      0.000      41.383      41.397\n",
      "==============================================================================\n",
      "Omnibus:                      125.910   Durbin-Watson:                   2.017\n",
      "Prob(Omnibus):                  0.000   Jarque-Bera (JB):               45.092\n",
      "Skew:                           0.071   Prob(JB):                     1.62e-10\n",
      "Kurtosis:                       2.239   Cond. No.                     4.39e+04\n",
      "==============================================================================\n",
      "\n",
      "Notes:\n",
      "[1] R² is computed without centering (uncentered) since the model does not contain a constant.\n",
      "[2] Standard Errors assume that the covariance matrix of the errors is correctly specified.\n",
      "[3] The condition number is large, 4.39e+04. This might indicate that there are\n",
      "strong multicollinearity or other numerical problems.\n"
     ]
    }
   ],
   "source": [
    "print(models_best.loc[models_best['RSS'] == models_best['RSS'].min()][\"model\"].tolist()[0].summary())"
   ]
  },
  {
   "cell_type": "markdown",
   "metadata": {},
   "source": [
    "## Forward stepwise regression"
   ]
  },
  {
   "cell_type": "code",
   "execution_count": 60,
   "metadata": {},
   "outputs": [],
   "source": [
    "def forward(predictors):\n",
    "\n",
    "    # Pull out predictors we still need to process\n",
    "    remaining_predictors = [p for p in X.columns if p not in predictors]\n",
    "\n",
    "    results = []\n",
    "    \n",
    "    for p in remaining_predictors:\n",
    "        results.append(processSubset(predictors+[p]))\n",
    "    \n",
    "    # Wrap everything up in a nice dataframe\n",
    "    models = pd.DataFrame(results)\n",
    "    \n",
    "    # Choose the model with the highest RSS\n",
    "    df = models[models['AIC'] == models['AIC'].min()]\n",
    "\n",
    "    best_model = df.iloc[0]\n",
    "\n",
    "    print(\"Processed \", models.shape[0], \"models on\", len(predictors)+1, \"predictors\")\n",
    "    \n",
    "    # Return the best model, along with some other useful information about the model\n",
    "    return best_model"
   ]
  },
  {
   "cell_type": "code",
   "execution_count": 61,
   "metadata": {},
   "outputs": [
    {
     "name": "stdout",
     "output_type": "stream",
     "text": [
      "Processed  6 models on 1 predictors\n",
      "Processed  5 models on 2 predictors\n",
      "Processed  4 models on 3 predictors\n",
      "Processed  3 models on 4 predictors\n",
      "Processed  2 models on 5 predictors\n",
      "Processed  1 models on 6 predictors\n"
     ]
    }
   ],
   "source": [
    "models_fwd = pd.DataFrame(columns=[\"RSS\", \"model\", \"AIC\", \"BIC\", \"features\"])\n",
    "\n",
    "predictors = []\n",
    "\n",
    "for i in range(1,len(X.columns)+1):    \n",
    "    models_fwd.loc[i] = forward(predictors)\n",
    "    predictors = models_fwd.loc[i][\"model\"].model.exog_names\n"
   ]
  },
  {
   "cell_type": "code",
   "execution_count": 62,
   "metadata": {},
   "outputs": [
    {
     "name": "stdout",
     "output_type": "stream",
     "text": [
      "                                 OLS Regression Results                                \n",
      "=======================================================================================\n",
      "Dep. Variable:                  value   R-squared (uncentered):                   1.000\n",
      "Model:                            OLS   Adj. R-squared (uncentered):              1.000\n",
      "Method:                 Least Squares   F-statistic:                          8.277e+09\n",
      "Date:                Fri, 07 May 2021   Prob (F-statistic):                        0.00\n",
      "Time:                        14:06:28   Log-Likelihood:                          4889.4\n",
      "No. Observations:                1808   AIC:                                     -9769.\n",
      "Df Residuals:                    1803   BIC:                                     -9741.\n",
      "Df Model:                           5                                                  \n",
      "Covariance Type:            nonrobust                                                  \n",
      "====================================================================================\n",
      "                       coef    std err          t      P>|t|      [0.025      0.975]\n",
      "------------------------------------------------------------------------------------\n",
      "lowerLimit          93.6944      0.002   4.97e+04      0.000      93.691      93.698\n",
      "lowerError          41.3900      0.003   1.23e+04      0.000      41.383      41.397\n",
      "year                 0.0029   8.37e-07   3459.974      0.000       0.003       0.003\n",
      "vaxView             -0.0293      0.002    -18.964      0.000      -0.032      -0.026\n",
      "demographicClass    -0.0144      0.002     -8.703      0.000      -0.018      -0.011\n",
      "==============================================================================\n",
      "Omnibus:                      125.761   Durbin-Watson:                   2.017\n",
      "Prob(Omnibus):                  0.000   Jarque-Bera (JB):               45.048\n",
      "Skew:                           0.070   Prob(JB):                     1.65e-10\n",
      "Kurtosis:                       2.240   Cond. No.                     1.81e+04\n",
      "==============================================================================\n",
      "\n",
      "Notes:\n",
      "[1] R² is computed without centering (uncentered) since the model does not contain a constant.\n",
      "[2] Standard Errors assume that the covariance matrix of the errors is correctly specified.\n",
      "[3] The condition number is large, 1.81e+04. This might indicate that there are\n",
      "strong multicollinearity or other numerical problems.\n"
     ]
    }
   ],
   "source": [
    "print(models_fwd.loc[models_fwd['AIC'] == models_fwd['AIC'].min()][\"model\"].tolist()[0].summary())"
   ]
  },
  {
   "cell_type": "code",
   "execution_count": 63,
   "metadata": {},
   "outputs": [
    {
     "name": "stdout",
     "output_type": "stream",
     "text": [
      "                                 OLS Regression Results                                \n",
      "=======================================================================================\n",
      "Dep. Variable:                  value   R-squared (uncentered):                   1.000\n",
      "Model:                            OLS   Adj. R-squared (uncentered):              1.000\n",
      "Method:                 Least Squares   F-statistic:                          8.277e+09\n",
      "Date:                Fri, 07 May 2021   Prob (F-statistic):                        0.00\n",
      "Time:                        14:06:29   Log-Likelihood:                          4889.4\n",
      "No. Observations:                1808   AIC:                                     -9769.\n",
      "Df Residuals:                    1803   BIC:                                     -9741.\n",
      "Df Model:                           5                                                  \n",
      "Covariance Type:            nonrobust                                                  \n",
      "====================================================================================\n",
      "                       coef    std err          t      P>|t|      [0.025      0.975]\n",
      "------------------------------------------------------------------------------------\n",
      "lowerLimit          93.6944      0.002   4.97e+04      0.000      93.691      93.698\n",
      "lowerError          41.3900      0.003   1.23e+04      0.000      41.383      41.397\n",
      "year                 0.0029   8.37e-07   3459.974      0.000       0.003       0.003\n",
      "vaxView             -0.0293      0.002    -18.964      0.000      -0.032      -0.026\n",
      "demographicClass    -0.0144      0.002     -8.703      0.000      -0.018      -0.011\n",
      "==============================================================================\n",
      "Omnibus:                      125.761   Durbin-Watson:                   2.017\n",
      "Prob(Omnibus):                  0.000   Jarque-Bera (JB):               45.048\n",
      "Skew:                           0.070   Prob(JB):                     1.65e-10\n",
      "Kurtosis:                       2.240   Cond. No.                     1.81e+04\n",
      "==============================================================================\n",
      "\n",
      "Notes:\n",
      "[1] R² is computed without centering (uncentered) since the model does not contain a constant.\n",
      "[2] Standard Errors assume that the covariance matrix of the errors is correctly specified.\n",
      "[3] The condition number is large, 1.81e+04. This might indicate that there are\n",
      "strong multicollinearity or other numerical problems.\n"
     ]
    }
   ],
   "source": [
    "print(models_fwd.loc[models_fwd['BIC'] == models_fwd['BIC'].min()][\"model\"].tolist()[0].summary())"
   ]
  },
  {
   "cell_type": "code",
   "execution_count": 64,
   "metadata": {},
   "outputs": [
    {
     "name": "stdout",
     "output_type": "stream",
     "text": [
      "                                 OLS Regression Results                                \n",
      "=======================================================================================\n",
      "Dep. Variable:                  value   R-squared (uncentered):                   1.000\n",
      "Model:                            OLS   Adj. R-squared (uncentered):              1.000\n",
      "Method:                 Least Squares   F-statistic:                          6.894e+09\n",
      "Date:                Fri, 07 May 2021   Prob (F-statistic):                        0.00\n",
      "Time:                        14:06:30   Log-Likelihood:                          4889.5\n",
      "No. Observations:                1808   AIC:                                     -9767.\n",
      "Df Residuals:                    1802   BIC:                                     -9734.\n",
      "Df Model:                           6                                                  \n",
      "Covariance Type:            nonrobust                                                  \n",
      "====================================================================================\n",
      "                       coef    std err          t      P>|t|      [0.025      0.975]\n",
      "------------------------------------------------------------------------------------\n",
      "lowerLimit          93.6943      0.002   4.96e+04      0.000      93.691      93.698\n",
      "lowerError          41.3897      0.003   1.19e+04      0.000      41.383      41.397\n",
      "year                 0.0029    8.6e-07   3366.466      0.000       0.003       0.003\n",
      "vaxView             -0.0293      0.002    -18.937      0.000      -0.032      -0.026\n",
      "demographicClass    -0.0144      0.002     -8.707      0.000      -0.018      -0.011\n",
      "sampleSize          -0.0027      0.008     -0.332      0.740      -0.019       0.013\n",
      "==============================================================================\n",
      "Omnibus:                      125.910   Durbin-Watson:                   2.017\n",
      "Prob(Omnibus):                  0.000   Jarque-Bera (JB):               45.092\n",
      "Skew:                           0.071   Prob(JB):                     1.62e-10\n",
      "Kurtosis:                       2.239   Cond. No.                     4.39e+04\n",
      "==============================================================================\n",
      "\n",
      "Notes:\n",
      "[1] R² is computed without centering (uncentered) since the model does not contain a constant.\n",
      "[2] Standard Errors assume that the covariance matrix of the errors is correctly specified.\n",
      "[3] The condition number is large, 4.39e+04. This might indicate that there are\n",
      "strong multicollinearity or other numerical problems.\n"
     ]
    }
   ],
   "source": [
    "print(models_fwd.loc[models_fwd['RSS'] == models_fwd['RSS'].min()][\"model\"].tolist()[0].summary())"
   ]
  },
  {
   "cell_type": "code",
   "execution_count": 65,
   "metadata": {},
   "outputs": [
    {
     "data": {
      "text/html": [
       "<div>\n",
       "<style scoped>\n",
       "    .dataframe tbody tr th:only-of-type {\n",
       "        vertical-align: middle;\n",
       "    }\n",
       "\n",
       "    .dataframe tbody tr th {\n",
       "        vertical-align: top;\n",
       "    }\n",
       "\n",
       "    .dataframe thead th {\n",
       "        text-align: right;\n",
       "    }\n",
       "</style>\n",
       "<table border=\"1\" class=\"dataframe\">\n",
       "  <thead>\n",
       "    <tr style=\"text-align: right;\">\n",
       "      <th></th>\n",
       "      <th>RSS</th>\n",
       "      <th>model</th>\n",
       "      <th>AIC</th>\n",
       "      <th>BIC</th>\n",
       "      <th>features</th>\n",
       "    </tr>\n",
       "  </thead>\n",
       "  <tbody>\n",
       "    <tr>\n",
       "      <th>6</th>\n",
       "      <td>0.473982</td>\n",
       "      <td>&lt;statsmodels.regression.linear_model.Regressio...</td>\n",
       "      <td>-9766.902621</td>\n",
       "      <td>-9733.902762</td>\n",
       "      <td>[lowerLimit, lowerError, year, vaxView, demogr...</td>\n",
       "    </tr>\n",
       "  </tbody>\n",
       "</table>\n",
       "</div>"
      ],
      "text/plain": [
       "        RSS                                              model          AIC  \\\n",
       "6  0.473982  <statsmodels.regression.linear_model.Regressio... -9766.902621   \n",
       "\n",
       "           BIC                                           features  \n",
       "6 -9733.902762  [lowerLimit, lowerError, year, vaxView, demogr...  "
      ]
     },
     "execution_count": 65,
     "metadata": {},
     "output_type": "execute_result"
    }
   ],
   "source": [
    "models_fwd.loc[models_fwd['RSS'] == models_fwd['RSS'].min()]"
   ]
  },
  {
   "cell_type": "markdown",
   "metadata": {},
   "source": [
    "### Backward Stepwise Regression"
   ]
  },
  {
   "cell_type": "code",
   "execution_count": 66,
   "metadata": {},
   "outputs": [],
   "source": [
    "def backward(predictors):\n",
    "\n",
    "    results = []\n",
    "    \n",
    "    for combo in itertools.combinations(predictors, len(predictors)-1):\n",
    "        results.append(processSubset(combo))\n",
    "    \n",
    "    # Wrap everything up in a nice dataframe\n",
    "    models = pd.DataFrame(results)\n",
    "    \n",
    "    # Choose the model with the highest RSS\n",
    "    df = models[models['AIC'] == models['AIC'].min()]\n",
    "\n",
    "    best_model = df.iloc[0]\n",
    "    \n",
    "    print(\"Processed \", models.shape[0], \"models on\", len(predictors)-1, \"predictors\")\n",
    "    \n",
    "    # Return the best model, along with some other useful information about the model\n",
    "    return best_model"
   ]
  },
  {
   "cell_type": "code",
   "execution_count": 67,
   "metadata": {},
   "outputs": [
    {
     "name": "stdout",
     "output_type": "stream",
     "text": [
      "Processed  6 models on 5 predictors\n",
      "Processed  5 models on 4 predictors\n",
      "Processed  4 models on 3 predictors\n",
      "Processed  3 models on 2 predictors\n",
      "Processed  2 models on 1 predictors\n"
     ]
    }
   ],
   "source": [
    "models_bwd = pd.DataFrame(columns=[\"RSS\", \"model\", \"AIC\", \"BIC\", \"features\"], index = range(1,len(X.columns)))\n",
    "\n",
    "predictors = X.columns\n",
    "\n",
    "while(len(predictors) > 1):  \n",
    "    models_bwd.loc[len(predictors)-1] = backward(predictors)\n",
    "    predictors = models_bwd.loc[len(predictors)-1][\"model\"].model.exog_names\n"
   ]
  },
  {
   "cell_type": "code",
   "execution_count": 68,
   "metadata": {},
   "outputs": [
    {
     "name": "stdout",
     "output_type": "stream",
     "text": [
      "                                 OLS Regression Results                                \n",
      "=======================================================================================\n",
      "Dep. Variable:                  value   R-squared (uncentered):                   1.000\n",
      "Model:                            OLS   Adj. R-squared (uncentered):              1.000\n",
      "Method:                 Least Squares   F-statistic:                          8.277e+09\n",
      "Date:                Fri, 07 May 2021   Prob (F-statistic):                        0.00\n",
      "Time:                        14:06:31   Log-Likelihood:                          4889.4\n",
      "No. Observations:                1808   AIC:                                     -9769.\n",
      "Df Residuals:                    1803   BIC:                                     -9741.\n",
      "Df Model:                           5                                                  \n",
      "Covariance Type:            nonrobust                                                  \n",
      "====================================================================================\n",
      "                       coef    std err          t      P>|t|      [0.025      0.975]\n",
      "------------------------------------------------------------------------------------\n",
      "vaxView             -0.0293      0.002    -18.964      0.000      -0.032      -0.026\n",
      "year                 0.0029   8.37e-07   3459.974      0.000       0.003       0.003\n",
      "lowerLimit          93.6944      0.002   4.97e+04      0.000      93.691      93.698\n",
      "demographicClass    -0.0144      0.002     -8.703      0.000      -0.018      -0.011\n",
      "lowerError          41.3900      0.003   1.23e+04      0.000      41.383      41.397\n",
      "==============================================================================\n",
      "Omnibus:                      125.761   Durbin-Watson:                   2.017\n",
      "Prob(Omnibus):                  0.000   Jarque-Bera (JB):               45.048\n",
      "Skew:                           0.070   Prob(JB):                     1.65e-10\n",
      "Kurtosis:                       2.240   Cond. No.                     1.81e+04\n",
      "==============================================================================\n",
      "\n",
      "Notes:\n",
      "[1] R² is computed without centering (uncentered) since the model does not contain a constant.\n",
      "[2] Standard Errors assume that the covariance matrix of the errors is correctly specified.\n",
      "[3] The condition number is large, 1.81e+04. This might indicate that there are\n",
      "strong multicollinearity or other numerical problems.\n"
     ]
    }
   ],
   "source": [
    "print(models_bwd.loc[models_bwd['AIC'] == models_bwd['AIC'].min()][\"model\"].tolist()[0].summary())"
   ]
  },
  {
   "cell_type": "code",
   "execution_count": 69,
   "metadata": {},
   "outputs": [
    {
     "name": "stdout",
     "output_type": "stream",
     "text": [
      "                                 OLS Regression Results                                \n",
      "=======================================================================================\n",
      "Dep. Variable:                  value   R-squared (uncentered):                   1.000\n",
      "Model:                            OLS   Adj. R-squared (uncentered):              1.000\n",
      "Method:                 Least Squares   F-statistic:                          8.277e+09\n",
      "Date:                Fri, 07 May 2021   Prob (F-statistic):                        0.00\n",
      "Time:                        14:06:32   Log-Likelihood:                          4889.4\n",
      "No. Observations:                1808   AIC:                                     -9769.\n",
      "Df Residuals:                    1803   BIC:                                     -9741.\n",
      "Df Model:                           5                                                  \n",
      "Covariance Type:            nonrobust                                                  \n",
      "====================================================================================\n",
      "                       coef    std err          t      P>|t|      [0.025      0.975]\n",
      "------------------------------------------------------------------------------------\n",
      "vaxView             -0.0293      0.002    -18.964      0.000      -0.032      -0.026\n",
      "year                 0.0029   8.37e-07   3459.974      0.000       0.003       0.003\n",
      "lowerLimit          93.6944      0.002   4.97e+04      0.000      93.691      93.698\n",
      "demographicClass    -0.0144      0.002     -8.703      0.000      -0.018      -0.011\n",
      "lowerError          41.3900      0.003   1.23e+04      0.000      41.383      41.397\n",
      "==============================================================================\n",
      "Omnibus:                      125.761   Durbin-Watson:                   2.017\n",
      "Prob(Omnibus):                  0.000   Jarque-Bera (JB):               45.048\n",
      "Skew:                           0.070   Prob(JB):                     1.65e-10\n",
      "Kurtosis:                       2.240   Cond. No.                     1.81e+04\n",
      "==============================================================================\n",
      "\n",
      "Notes:\n",
      "[1] R² is computed without centering (uncentered) since the model does not contain a constant.\n",
      "[2] Standard Errors assume that the covariance matrix of the errors is correctly specified.\n",
      "[3] The condition number is large, 1.81e+04. This might indicate that there are\n",
      "strong multicollinearity or other numerical problems.\n"
     ]
    }
   ],
   "source": [
    "print(models_bwd.loc[models_bwd['BIC'] == models_bwd['BIC'].min()][\"model\"].tolist()[0].summary())"
   ]
  },
  {
   "cell_type": "code",
   "execution_count": 70,
   "metadata": {},
   "outputs": [
    {
     "name": "stdout",
     "output_type": "stream",
     "text": [
      "                                 OLS Regression Results                                \n",
      "=======================================================================================\n",
      "Dep. Variable:                  value   R-squared (uncentered):                   1.000\n",
      "Model:                            OLS   Adj. R-squared (uncentered):              1.000\n",
      "Method:                 Least Squares   F-statistic:                          8.277e+09\n",
      "Date:                Fri, 07 May 2021   Prob (F-statistic):                        0.00\n",
      "Time:                        14:06:32   Log-Likelihood:                          4889.4\n",
      "No. Observations:                1808   AIC:                                     -9769.\n",
      "Df Residuals:                    1803   BIC:                                     -9741.\n",
      "Df Model:                           5                                                  \n",
      "Covariance Type:            nonrobust                                                  \n",
      "====================================================================================\n",
      "                       coef    std err          t      P>|t|      [0.025      0.975]\n",
      "------------------------------------------------------------------------------------\n",
      "vaxView             -0.0293      0.002    -18.964      0.000      -0.032      -0.026\n",
      "year                 0.0029   8.37e-07   3459.974      0.000       0.003       0.003\n",
      "lowerLimit          93.6944      0.002   4.97e+04      0.000      93.691      93.698\n",
      "demographicClass    -0.0144      0.002     -8.703      0.000      -0.018      -0.011\n",
      "lowerError          41.3900      0.003   1.23e+04      0.000      41.383      41.397\n",
      "==============================================================================\n",
      "Omnibus:                      125.761   Durbin-Watson:                   2.017\n",
      "Prob(Omnibus):                  0.000   Jarque-Bera (JB):               45.048\n",
      "Skew:                           0.070   Prob(JB):                     1.65e-10\n",
      "Kurtosis:                       2.240   Cond. No.                     1.81e+04\n",
      "==============================================================================\n",
      "\n",
      "Notes:\n",
      "[1] R² is computed without centering (uncentered) since the model does not contain a constant.\n",
      "[2] Standard Errors assume that the covariance matrix of the errors is correctly specified.\n",
      "[3] The condition number is large, 1.81e+04. This might indicate that there are\n",
      "strong multicollinearity or other numerical problems.\n"
     ]
    }
   ],
   "source": [
    "print(models_bwd.loc[models_bwd['RSS'] == models_bwd['RSS'].min()][\"model\"].tolist()[0].summary())"
   ]
  },
  {
   "cell_type": "code",
   "execution_count": 71,
   "metadata": {},
   "outputs": [
    {
     "data": {
      "text/html": [
       "<div>\n",
       "<style scoped>\n",
       "    .dataframe tbody tr th:only-of-type {\n",
       "        vertical-align: middle;\n",
       "    }\n",
       "\n",
       "    .dataframe tbody tr th {\n",
       "        vertical-align: top;\n",
       "    }\n",
       "\n",
       "    .dataframe thead th {\n",
       "        text-align: right;\n",
       "    }\n",
       "</style>\n",
       "<table border=\"1\" class=\"dataframe\">\n",
       "  <thead>\n",
       "    <tr style=\"text-align: right;\">\n",
       "      <th></th>\n",
       "      <th>RSS</th>\n",
       "      <th>model</th>\n",
       "      <th>AIC</th>\n",
       "      <th>BIC</th>\n",
       "      <th>features</th>\n",
       "    </tr>\n",
       "  </thead>\n",
       "  <tbody>\n",
       "    <tr>\n",
       "      <th>5</th>\n",
       "      <td>0.474011</td>\n",
       "      <td>&lt;statsmodels.regression.linear_model.Regressio...</td>\n",
       "      <td>-9768.79</td>\n",
       "      <td>-9741.29</td>\n",
       "      <td>[vaxView, year, lowerLimit, demographicClass, ...</td>\n",
       "    </tr>\n",
       "  </tbody>\n",
       "</table>\n",
       "</div>"
      ],
      "text/plain": [
       "        RSS                                              model      AIC  \\\n",
       "5  0.474011  <statsmodels.regression.linear_model.Regressio... -9768.79   \n",
       "\n",
       "       BIC                                           features  \n",
       "5 -9741.29  [vaxView, year, lowerLimit, demographicClass, ...  "
      ]
     },
     "execution_count": 71,
     "metadata": {},
     "output_type": "execute_result"
    }
   ],
   "source": [
    "models_bwd.loc[models_bwd['RSS'] == models_bwd['RSS'].min()]"
   ]
  },
  {
   "cell_type": "markdown",
   "metadata": {},
   "source": [
    "### The features giving lowest AIC, BIC and RSS values Backward regression are upperLimit, upperError and year and the features giving lowest AIC, BIC and RSS values for best subset selection and Forward are upperLimit, upperError and lowerError"
   ]
  },
  {
   "cell_type": "markdown",
   "metadata": {},
   "source": [
    "#### Fitting a model with all these features"
   ]
  },
  {
   "cell_type": "code",
   "execution_count": 72,
   "metadata": {},
   "outputs": [],
   "source": [
    "X = data[[ \"vaxView\", \"lowerLimit\", \"lowerError\", \"year\", \"demographicClass\"]]"
   ]
  },
  {
   "cell_type": "code",
   "execution_count": 73,
   "metadata": {},
   "outputs": [],
   "source": [
    "X_train, X_test , y_train, y_test = train_test_split(X, y, test_size=0.3, random_state=1)"
   ]
  },
  {
   "cell_type": "code",
   "execution_count": 74,
   "metadata": {},
   "outputs": [],
   "source": [
    "model = sm.OLS(y_train, X_train).fit()\n",
    "y_pred = model.predict(X_test)"
   ]
  },
  {
   "cell_type": "code",
   "execution_count": 78,
   "metadata": {},
   "outputs": [
    {
     "name": "stdout",
     "output_type": "stream",
     "text": [
      "MSE 0.00026831265588524443\n"
     ]
    }
   ],
   "source": [
    "print(\"MSE\", mean_squared_error(y_test, y_pred))  "
   ]
  },
  {
   "cell_type": "code",
   "execution_count": 79,
   "metadata": {},
   "outputs": [
    {
     "name": "stdout",
     "output_type": "stream",
     "text": [
      "RMSE 0.016380252009210495\n"
     ]
    }
   ],
   "source": [
    "from math import sqrt\n",
    "print(\"RMSE\", sqrt(mean_squared_error(y_test, y_pred)))"
   ]
  },
  {
   "cell_type": "code",
   "execution_count": null,
   "metadata": {},
   "outputs": [],
   "source": [
    "print(model.summary())"
   ]
  },
  {
   "cell_type": "code",
   "execution_count": null,
   "metadata": {},
   "outputs": [],
   "source": [
    "aic_bwd = models_bwd.loc[models_bwd['AIC'] == models_bwd['AIC'].min()][\"AIC\"].tolist()[0]\n",
    "aic_fwd = models_fwd.loc[models_fwd['AIC'] == models_fwd['AIC'].min()][\"AIC\"].tolist()[0]"
   ]
  },
  {
   "cell_type": "code",
   "execution_count": null,
   "metadata": {},
   "outputs": [],
   "source": [
    "aic_bwd > aic_fwd"
   ]
  },
  {
   "cell_type": "code",
   "execution_count": null,
   "metadata": {},
   "outputs": [],
   "source": [
    "aic_fwd > aic_bwd"
   ]
  },
  {
   "cell_type": "code",
   "execution_count": null,
   "metadata": {},
   "outputs": [],
   "source": [
    "from sklearn.metrics import r2_score\n",
    "import seaborn as sns\n",
    "r2_score(y_test, y_pred = y_pred)"
   ]
  },
  {
   "cell_type": "code",
   "execution_count": null,
   "metadata": {},
   "outputs": [],
   "source": [
    "# Plotting the predicted values against the actual values\n",
    "sns.distplot(y_pred, hist = False, color = 'y', label = 'Predicted')\n",
    "sns.distplot(y_test, hist = False, color = 'r', label = 'Actual Values')\n",
    "plt.title('Actual vs Predicted Values', fontsize = 16)\n",
    "plt.xlabel('Values', fontsize = 10)\n",
    "plt.ylabel('Frequency', fontsize = 10)\n",
    "plt.legend(loc = 'upper left', fontsize = 10)\n",
    "\n",
    "# plt.savefig('ap.png')"
   ]
  },
  {
   "cell_type": "code",
   "execution_count": null,
   "metadata": {},
   "outputs": [],
   "source": []
  }
 ],
 "metadata": {
  "kernelspec": {
   "display_name": "Python 3",
   "language": "python",
   "name": "python3"
  },
  "language_info": {
   "codemirror_mode": {
    "name": "ipython",
    "version": 3
   },
   "file_extension": ".py",
   "mimetype": "text/x-python",
   "name": "python",
   "nbconvert_exporter": "python",
   "pygments_lexer": "ipython3",
   "version": "3.8.5"
  }
 },
 "nbformat": 4,
 "nbformat_minor": 4
}
